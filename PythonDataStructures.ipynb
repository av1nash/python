{
 "cells": [
  {
   "cell_type": "markdown",
   "metadata": {},
   "source": [
    "# Basic List Operations\n",
    "Before we can go in detail about implementing different data structures, it will be very helpful if we go through the basics of list operations, since a list is used in implementing majority of Abstract data types"
   ]
  },
  {
   "cell_type": "code",
   "execution_count": 8,
   "metadata": {
    "collapsed": true
   },
   "outputs": [],
   "source": [
    "items = [2, 3, 10, 6, 4, 8, 1]"
   ]
  },
  {
   "cell_type": "code",
   "execution_count": 10,
   "metadata": {
    "collapsed": false
   },
   "outputs": [
    {
     "name": "stdout",
     "output_type": "stream",
     "text": [
      "[2, 3, 10, 6, 4, 8, 1, 9, 9]\n"
     ]
    }
   ],
   "source": [
    "#adding items in a list\n",
    "items.append(9) #will add item at the end of the list\n",
    "print(items)"
   ]
  },
  {
   "cell_type": "code",
   "execution_count": 12,
   "metadata": {
    "collapsed": false
   },
   "outputs": [
    {
     "name": "stdout",
     "output_type": "stream",
     "text": [
      "[1, 2, 3, 10, 6, 4, 8, 1, 9, 10]\n"
     ]
    }
   ],
   "source": [
    "items.insert(0,1) #will add items at index 0 (first argument)\n",
    "items.insert(len(items),10) #will add item at the end of the list, similar to append\n",
    "print(items)"
   ]
  },
  {
   "cell_type": "code",
   "execution_count": 13,
   "metadata": {
    "collapsed": false
   },
   "outputs": [
    {
     "data": {
      "text/plain": [
       "10"
      ]
     },
     "execution_count": 13,
     "metadata": {},
     "output_type": "execute_result"
    }
   ],
   "source": [
    "items.pop() # wihtout argument will remove and return last item of the list"
   ]
  },
  {
   "cell_type": "code",
   "execution_count": 14,
   "metadata": {
    "collapsed": false
   },
   "outputs": [
    {
     "data": {
      "text/plain": [
       "1"
      ]
     },
     "execution_count": 14,
     "metadata": {},
     "output_type": "execute_result"
    }
   ],
   "source": [
    "items.pop(0) #when specified with an argument, will remove and return item from that index value"
   ]
  },
  {
   "cell_type": "markdown",
   "metadata": {},
   "source": [
    "# Stack Implementation"
   ]
  },
  {
   "cell_type": "code",
   "execution_count": 2,
   "metadata": {
    "collapsed": false
   },
   "outputs": [],
   "source": [
    "class Stack:\n",
    "    def __init__(self):\n",
    "        self.items=[]\n",
    "    \n",
    "    def push(self,item):\n",
    "        self.items.append(item)\n",
    "    \n",
    "    def pop(self):\n",
    "        return self.items.pop()\n",
    "    \n",
    "    def peek(self):\n",
    "        return self.items[len(self.items) - 1]\n",
    "    \n",
    "    def isEmpty(self):\n",
    "        return self.items==[]\n",
    "    \n",
    "    def size(self):\n",
    "        return len(self.items)\n"
   ]
  },
  {
   "cell_type": "code",
   "execution_count": 3,
   "metadata": {
    "collapsed": false
   },
   "outputs": [],
   "source": [
    "s=Stack()"
   ]
  },
  {
   "cell_type": "code",
   "execution_count": 4,
   "metadata": {
    "collapsed": false
   },
   "outputs": [
    {
     "name": "stdout",
     "output_type": "stream",
     "text": [
      "cat\n"
     ]
    }
   ],
   "source": [
    "s.push(5)\n",
    "s.push('cat')\n",
    "print (s.peek())"
   ]
  },
  {
   "cell_type": "code",
   "execution_count": 5,
   "metadata": {
    "collapsed": false
   },
   "outputs": [
    {
     "name": "stdout",
     "output_type": "stream",
     "text": [
      "False\n"
     ]
    }
   ],
   "source": [
    "print(s.isEmpty())"
   ]
  },
  {
   "cell_type": "code",
   "execution_count": 10,
   "metadata": {
    "collapsed": false
   },
   "outputs": [
    {
     "name": "stdout",
     "output_type": "stream",
     "text": [
      "cat\n"
     ]
    }
   ],
   "source": [
    "print(s.pop())"
   ]
  },
  {
   "cell_type": "markdown",
   "metadata": {},
   "source": [
    "#  Queue Implementation"
   ]
  },
  {
   "cell_type": "code",
   "execution_count": 15,
   "metadata": {
    "collapsed": true
   },
   "outputs": [],
   "source": [
    "class Queue:\n",
    "    def __init__(self):\n",
    "        self.items=[]\n",
    "    \n",
    "    def isEmpty(self):\n",
    "        return self.items==[]\n",
    "    \n",
    "    def enqueue(self,item):\n",
    "        self.items.insert(0,item)\n",
    "    \n",
    "    def dequeue(self):\n",
    "        return self.items.pop()\n",
    "    \n",
    "    def size(self):\n",
    "        return len(self.items)\n",
    "    "
   ]
  },
  {
   "cell_type": "code",
   "execution_count": 16,
   "metadata": {
    "collapsed": false
   },
   "outputs": [
    {
     "name": "stdout",
     "output_type": "stream",
     "text": [
      "1\n"
     ]
    }
   ],
   "source": [
    "q = Queue()\n",
    "q.enqueue(45)\n",
    "print(q.size())"
   ]
  },
  {
   "cell_type": "code",
   "execution_count": 17,
   "metadata": {
    "collapsed": false
   },
   "outputs": [
    {
     "name": "stdout",
     "output_type": "stream",
     "text": [
      "45\n",
      "False\n"
     ]
    }
   ],
   "source": [
    "q.enqueue('dog')\n",
    "print(q.dequeue())\n",
    "print(q.isEmpty())"
   ]
  },
  {
   "cell_type": "markdown",
   "metadata": {},
   "source": [
    "# Dequeue Implementation"
   ]
  },
  {
   "cell_type": "code",
   "execution_count": 18,
   "metadata": {
    "collapsed": true
   },
   "outputs": [],
   "source": [
    "class Deque:\n",
    "    def __init__(self):\n",
    "        self.items=[]\n",
    "        \n",
    "    def addFront(self,item):\n",
    "        self.items.append(item)\n",
    "    def addRear(self,item):\n",
    "        self.items.insert(0,item)\n",
    "    def removeFront(self):\n",
    "        return self.items.pop()\n",
    "    def removeRear(self):\n",
    "        return self.items.pop(0)\n",
    "    "
   ]
  },
  {
   "cell_type": "code",
   "execution_count": 19,
   "metadata": {
    "collapsed": true
   },
   "outputs": [],
   "source": [
    "d=Deque()"
   ]
  },
  {
   "cell_type": "code",
   "execution_count": 22,
   "metadata": {
    "collapsed": false
   },
   "outputs": [
    {
     "name": "stdout",
     "output_type": "stream",
     "text": [
      "[5]\n"
     ]
    }
   ],
   "source": [
    "d.addFront(5)\n",
    "print (d.items)"
   ]
  },
  {
   "cell_type": "code",
   "execution_count": 23,
   "metadata": {
    "collapsed": false
   },
   "outputs": [
    {
     "name": "stdout",
     "output_type": "stream",
     "text": [
      "['dog', 5]\n"
     ]
    }
   ],
   "source": [
    "d.addRear('dog')\n",
    "print(d.items)"
   ]
  },
  {
   "cell_type": "markdown",
   "metadata": {},
   "source": [
    "# Unordered List (Linked List)\n",
    "Basic building block for the implementation of Linked list is **node**.\n",
    "\n",
    "**Node** holds two pieces of information:\n",
    "1. List item itself (data field)\n",
    "2. Reference to the next node (is initialized to None, when a new node is created)\n"
   ]
  },
  {
   "cell_type": "code",
   "execution_count": 5,
   "metadata": {
    "collapsed": false
   },
   "outputs": [],
   "source": [
    "class Node:\n",
    "    def __init__(self,initdata):\n",
    "        #when a new node is created, we provide inital data to be stored and reference to next node \n",
    "        #is initialized to None\n",
    "        self.data=initdata\n",
    "        self.next = None\n",
    "    def setData(self,newdata):\n",
    "        self.data=newdata\n",
    "    def setNext(self,newnext):\n",
    "        self.next=newnext\n",
    "    def getData(self):\n",
    "        return self.data\n",
    "    def getNext(self):\n",
    "        return self.next\n",
    "\n",
    "class Unorderedlist:\n",
    "    #Unordered List must maintain a reference to the first node, when Unordered list is created it is empty\n",
    "    # and hence head is initialized to None\n",
    "    def __init__(self):\n",
    "        self.head=None\n",
    "    \n",
    "    def isEmpty(self):\n",
    "        return self.head==None\n",
    "    \n",
    "    def add(self,item):\n",
    "        #create an instance of Node class, this will initialize data to item and next to None\n",
    "        temp = Node(item)\n",
    "        #now that this node is added to Unordered list, its next should point to what head was pointing to\n",
    "        temp.setNext(self.head)\n",
    "        # and head should now point to this node\n",
    "        self.head=temp\n",
    "    \n",
    "    #Linked List traversal methods\n",
    "    # Finding size of a linked list\n",
    "    #General trend in Linked List traversal is that you start at head and keep going to next node until you\n",
    "    #reach the very end.\n",
    "    \n",
    "    def size(self):\n",
    "        current = self.head\n",
    "        count = 0\n",
    "        while current != None:\n",
    "            count+=1\n",
    "            current = current.getNext()\n",
    "        return count\n",
    "    \n",
    "    #Searching for an item in Linked list\n",
    "    def search(self,item):\n",
    "        current = self.head\n",
    "        found = False\n",
    "        while current != None and not found:\n",
    "            if current.getData() == item:\n",
    "                found = True\n",
    "            else:\n",
    "                current = current.getNext()\n",
    "        return found\n",
    "    \n",
    "    #Removing an item from the linked list\n",
    "    #This is tricky because you not only have to keep track of the current node, but also previous node, as when\n",
    "    #you remove the current node, you need to point your previous node to the node which current node was \n",
    "    #pointing to\n",
    "    def remove(self,item):\n",
    "        current=self.head\n",
    "        previous = None\n",
    "        found = False\n",
    "        while not found:\n",
    "            if current.getData()==item:\n",
    "                found = True\n",
    "            else:\n",
    "                previous = current\n",
    "                current=current.getNext()\n",
    "        #if the item that you are looking for is the first node itself\n",
    "        if previous == None:\n",
    "            self.head= current.getNext()\n",
    "        else:\n",
    "            previous.setNext(current.getNext())\n",
    "            \n",
    "        \n",
    "    #4 Append method - to add an item at the end of Linked List\n",
    "    def append(self,item):\n",
    "        current=self.head\n",
    "        found=False\n",
    "        if self.head==None:\n",
    "            temp=Node(item)\n",
    "            temp.setNext(self.head)\n",
    "            self.head=temp\n",
    "        else:\n",
    "            while current != None:\n",
    "                current=current.getNext()\n",
    "            temp=Node(item)\n",
    "            current.setNext(temp)\n",
    "                "
   ]
  },
  {
   "cell_type": "code",
   "execution_count": 75,
   "metadata": {
    "collapsed": true
   },
   "outputs": [],
   "source": [
    "mylist = Unorderedlist()\n"
   ]
  },
  {
   "cell_type": "code",
   "execution_count": 76,
   "metadata": {
    "collapsed": false
   },
   "outputs": [],
   "source": [
    "mylist.add(31)"
   ]
  },
  {
   "cell_type": "code",
   "execution_count": 77,
   "metadata": {
    "collapsed": true
   },
   "outputs": [],
   "source": [
    "mylist.add(77)"
   ]
  },
  {
   "cell_type": "code",
   "execution_count": 78,
   "metadata": {
    "collapsed": false
   },
   "outputs": [
    {
     "data": {
      "text/plain": [
       "2"
      ]
     },
     "execution_count": 78,
     "metadata": {},
     "output_type": "execute_result"
    }
   ],
   "source": [
    "mylist.size()"
   ]
  },
  {
   "cell_type": "code",
   "execution_count": 79,
   "metadata": {
    "collapsed": false
   },
   "outputs": [
    {
     "data": {
      "text/plain": [
       "True"
      ]
     },
     "execution_count": 79,
     "metadata": {},
     "output_type": "execute_result"
    }
   ],
   "source": [
    "mylist.search(77)"
   ]
  },
  {
   "cell_type": "code",
   "execution_count": 80,
   "metadata": {
    "collapsed": false
   },
   "outputs": [],
   "source": [
    "mylist.remove(31)"
   ]
  },
  {
   "cell_type": "code",
   "execution_count": 81,
   "metadata": {
    "collapsed": false
   },
   "outputs": [
    {
     "data": {
      "text/plain": [
       "1"
      ]
     },
     "execution_count": 81,
     "metadata": {},
     "output_type": "execute_result"
    }
   ],
   "source": [
    "mylist.size()"
   ]
  },
  {
   "cell_type": "markdown",
   "metadata": {},
   "source": [
    "# Ordered List\n",
    "Ordered list is mostly similar to Unordered list, except for the fact that items are either sorted in ascending order or descending order.\n",
    "Advantage: Can get better efficiency while searching for an item\n",
    "Disadvantage: Addition operation is costly, since you cannot just add a new node at the beginning, you need to find/search its right position and then insert it."
   ]
  },
  {
   "cell_type": "code",
   "execution_count": 1,
   "metadata": {
    "collapsed": true
   },
   "outputs": [],
   "source": [
    "class Node:\n",
    "    def __init__(self,initdata):\n",
    "        #when a new node is created, we provide inital data to be stored in data and reference to next node \n",
    "        #is initialized to None\n",
    "        self.data=initdata\n",
    "        self.next = None\n",
    "    def setData(self,newdata):\n",
    "        self.data=newdata\n",
    "    def setNext(self,newnext):\n",
    "        self.next=newnext\n",
    "    def getData(self):\n",
    "        return self.data\n",
    "    def getNext(self):\n",
    "        return self.next\n",
    "\n",
    "class Orderedlist:\n",
    "    #Ordered List must maintain a reference to the first node, when ordered list is created it is empty\n",
    "    # and hence head is initialized to None\n",
    "    def __init__(self):\n",
    "        self.head=None\n",
    "    \n",
    "    def isEmpty(self):\n",
    "        return self.head==None\n",
    "\n",
    "    def search(self,item):\n",
    "        current=self.head\n",
    "        found = False\n",
    "        stop = False\n",
    "        while current!= None and not found and not stop:\n",
    "            if current.getData() == item:\n",
    "                found = True\n",
    "            else:\n",
    "                if current.getData()>item:\n",
    "                    stop = True\n",
    "                else:\n",
    "                    current=current.getNext()\n",
    "        return found\n",
    "    \n",
    "    def add(self,item):\n",
    "        current=self.head\n",
    "        previous=None\n",
    "        stop = False\n",
    "        while current!=None and not stop:\n",
    "            if current.getData()>item:\n",
    "                    stop=True\n",
    "            else:\n",
    "                previous=current\n",
    "                current=current.getNext()\n",
    "            temp = node(item)\n",
    "            if previous==None:\n",
    "                temp.setNext(self.head)\n",
    "                self.head=temp\n",
    "            else:\n",
    "                temp.setNext(current)\n",
    "                previous.setNext(temp)\n",
    "                    \n",
    "         "
   ]
  },
  {
   "cell_type": "markdown",
   "metadata": {},
   "source": [
    "# Searching\n",
    "\n",
    "1. Sequential Search\n",
    "2. Binary Search"
   ]
  },
  {
   "cell_type": "code",
   "execution_count": 85,
   "metadata": {
    "collapsed": true
   },
   "outputs": [],
   "source": [
    "def sequentialsearch(alist,item):\n",
    "    pos=0\n",
    "    found = False\n",
    "    while pos < len(alist) and not found:\n",
    "        if alist[pos] == item:\n",
    "            found = True\n",
    "        else:\n",
    "            pos+=1\n",
    "    return found\n"
   ]
  },
  {
   "cell_type": "code",
   "execution_count": 86,
   "metadata": {
    "collapsed": false
   },
   "outputs": [
    {
     "data": {
      "text/plain": [
       "True"
      ]
     },
     "execution_count": 86,
     "metadata": {},
     "output_type": "execute_result"
    }
   ],
   "source": [
    "sequentialsearch([2,3,4,6],4)"
   ]
  },
  {
   "cell_type": "code",
   "execution_count": 88,
   "metadata": {
    "collapsed": false
   },
   "outputs": [],
   "source": [
    "def binarysearch(alist,item):\n",
    "    start=0\n",
    "    last=len(alist)\n",
    "    found = False\n",
    "    while start <= last and not found:\n",
    "        mid = (start+last)//2\n",
    "        if alist[mid]==item:\n",
    "            found = True\n",
    "        else:\n",
    "            if alist[mid]<item:\n",
    "                start = mid+1\n",
    "            else:\n",
    "                last = mid-1\n",
    "    return found   "
   ]
  },
  {
   "cell_type": "code",
   "execution_count": 89,
   "metadata": {
    "collapsed": false
   },
   "outputs": [
    {
     "data": {
      "text/plain": [
       "True"
      ]
     },
     "execution_count": 89,
     "metadata": {},
     "output_type": "execute_result"
    }
   ],
   "source": [
    "binarysearch([2,3,4,5,6],3)"
   ]
  },
  {
   "cell_type": "code",
   "execution_count": 2,
   "metadata": {
    "collapsed": false
   },
   "outputs": [],
   "source": [
    "#binary search recursive implementation\n",
    "def rec_binarysearch(alist,item):\n",
    "    #Defining the base case, which is what if the list in empty\n",
    "    if len(alist)==0:\n",
    "        return False\n",
    "    else:\n",
    "        midpoint=len(alist)//2\n",
    "        if alist[midpoint]==item:\n",
    "            return True\n",
    "        else:\n",
    "            if alist(midpoint)>item:\n",
    "                #alist[:midpoint] and not alist[:midpoint-1] because when you are slicing a list, second argument \n",
    "                #is not included.\n",
    "                rec_binarysearch(alist[:midpoint],item)\n",
    "            else:\n",
    "                rec_binarysearch(alist[midpoint+1:],item)\n",
    "    "
   ]
  },
  {
   "cell_type": "code",
   "execution_count": 3,
   "metadata": {
    "collapsed": false
   },
   "outputs": [
    {
     "data": {
      "text/plain": [
       "True"
      ]
     },
     "execution_count": 3,
     "metadata": {},
     "output_type": "execute_result"
    }
   ],
   "source": [
    "rec_binarysearch([2,3,4,5,6],4)"
   ]
  },
  {
   "cell_type": "markdown",
   "metadata": {},
   "source": [
    "# Hashing\n",
    "\n",
    "Implementing a map abstract data type"
   ]
  },
  {
   "cell_type": "code",
   "execution_count": 7,
   "metadata": {
    "collapsed": true
   },
   "outputs": [],
   "source": [
    "class HashTable:\n",
    "    def __init__(self):\n",
    "        self.size=11\n",
    "        self.slots=[None]*self.size #slots list will maintain key\n",
    "        self.data=[None]*self.size #data list will maintain data values\n",
    "        \n",
    "    def hashfunction(self,key,size):\n",
    "        return key%size\n",
    "    \n",
    "    def rehash(self,oldhash,size):\n",
    "        return (oldhash+1)% size #Linear probing\n",
    "    \n",
    "    #put functions assumes that you will always either find an empty slot or the key \n",
    "    def put(self,key,data):\n",
    "        hashvalue = self.hashfunction(key,len(self.slots))\n",
    "        if self.slots[hashvalue]==None:\n",
    "            self.slots[hashvalue]=key\n",
    "            self.data[hashvalue]=data\n",
    "        else:\n",
    "            if self.slots[hashvalue]==key:\n",
    "                self.data[hashvalue]=data\n",
    "            else:\n",
    "                nextslot = self.rehash(hashvalue,len(self.slots))\n",
    "                while self.slots[nextslot] !=None and self.slots[nextslot]!=key:\n",
    "                    nextslot=self.rehash(nextslot,len(self.slots))\n",
    "                if self.slots[nextslot]==None:\n",
    "                    self.slots[nextslot]=key\n",
    "                    self.data[nextslot]= data\n",
    "                else:\n",
    "                    self.data[nextslot]= data\n",
    "    \n",
    "    def get(self,key):\n",
    "        startslot=self.hashfunction(key,len(self.slots))\n",
    "        data = None\n",
    "        stop = False\n",
    "        found = None\n",
    "        position=startslot\n",
    "        \n",
    "        while self.slots[position] !=None and not found and not stop:\n",
    "            if self.slots[position]==key:\n",
    "                found = True\n",
    "                data=self.data[position]\n",
    "            else:\n",
    "                position = self.rehash(position,len(self.slots))\n",
    "                if position == startslot:\n",
    "                    stop = True\n",
    "                \n",
    "        return data\n",
    "    \n",
    "    def __getitem__(self,key):\n",
    "        return self.get(key)\n",
    "    def __setitem__(self,key,data):\n",
    "        self.put(key,data)\n",
    "            \n",
    "        "
   ]
  },
  {
   "cell_type": "code",
   "execution_count": 8,
   "metadata": {
    "collapsed": true
   },
   "outputs": [],
   "source": [
    "H = HashTable()\n"
   ]
  },
  {
   "cell_type": "code",
   "execution_count": 9,
   "metadata": {
    "collapsed": false
   },
   "outputs": [],
   "source": [
    "H[10]='chicken'"
   ]
  },
  {
   "cell_type": "code",
   "execution_count": 11,
   "metadata": {
    "collapsed": false
   },
   "outputs": [],
   "source": [
    "H[93]='dog'"
   ]
  },
  {
   "cell_type": "code",
   "execution_count": 12,
   "metadata": {
    "collapsed": false
   },
   "outputs": [
    {
     "data": {
      "text/plain": [
       "[None, None, None, None, None, 93, None, None, None, None, 10]"
      ]
     },
     "execution_count": 12,
     "metadata": {},
     "output_type": "execute_result"
    }
   ],
   "source": [
    "H.slots"
   ]
  },
  {
   "cell_type": "code",
   "execution_count": 13,
   "metadata": {
    "collapsed": false
   },
   "outputs": [
    {
     "data": {
      "text/plain": [
       "'dog'"
      ]
     },
     "execution_count": 13,
     "metadata": {},
     "output_type": "execute_result"
    }
   ],
   "source": [
    "H[93]"
   ]
  },
  {
   "cell_type": "markdown",
   "metadata": {},
   "source": [
    "# Sorting\n",
    "## 1. Bubble Sort\n",
    "Complexity - **O(n^2)**\n"
   ]
  },
  {
   "cell_type": "code",
   "execution_count": 14,
   "metadata": {
    "collapsed": true
   },
   "outputs": [],
   "source": [
    "def bubblesort(alist):\n",
    "    for passnum in range(len(alist)-1,0,-1):\n",
    "        for i in range(passnum):\n",
    "            if alist[i]>alist[i+1]:\n",
    "                alist[i],alist[i+1]=alist[i+1],alist[i]\n",
    "                "
   ]
  },
  {
   "cell_type": "code",
   "execution_count": 16,
   "metadata": {
    "collapsed": false
   },
   "outputs": [
    {
     "name": "stdout",
     "output_type": "stream",
     "text": [
      "[17, 20, 26, 31, 44, 54, 55, 77, 93]\n"
     ]
    }
   ],
   "source": [
    "alist = [54,26,93,17,77,31,44,55,20]\n",
    "bubblesort(alist)\n",
    "print(alist)"
   ]
  },
  {
   "cell_type": "markdown",
   "metadata": {},
   "source": [
    "## 2. Selection Sort"
   ]
  },
  {
   "cell_type": "code",
   "execution_count": null,
   "metadata": {
    "collapsed": true
   },
   "outputs": [],
   "source": [
    "def selectionsort(alist):\n",
    "    \n",
    "    "
   ]
  }
 ],
 "metadata": {
  "kernelspec": {
   "display_name": "Python 2",
   "language": "python",
   "name": "python2"
  },
  "language_info": {
   "codemirror_mode": {
    "name": "ipython",
    "version": 2
   },
   "file_extension": ".py",
   "mimetype": "text/x-python",
   "name": "python",
   "nbconvert_exporter": "python",
   "pygments_lexer": "ipython2",
   "version": "2.7.11"
  }
 },
 "nbformat": 4,
 "nbformat_minor": 0
}
