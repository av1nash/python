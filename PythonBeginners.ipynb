{
  "nbformat": 4,
  "nbformat_minor": 0,
  "metadata": {
    "colab": {
      "name": "PythonBeginners.ipynb",
      "provenance": [],
      "collapsed_sections": [
        "T2mb4p88zXUu",
        "OQNu7vt9zNwI"
      ],
      "toc_visible": true,
      "authorship_tag": "ABX9TyODqdDnVU1Ga3KuVF4XGP76"
    },
    "kernelspec": {
      "name": "python3",
      "display_name": "Python 3"
    },
    "language_info": {
      "name": "python"
    }
  },
  "cells": [
    {
      "cell_type": "markdown",
      "metadata": {
        "id": "td6Q7yROl4N9"
      },
      "source": [
        "These are my notes while going through this tutorial: https://www.youtube.com/watch?v=rfscVS0vtbw"
      ]
    },
    {
      "cell_type": "markdown",
      "metadata": {
        "id": "FElmiH6djIBu"
      },
      "source": [
        "# Python String Functions"
      ]
    },
    {
      "cell_type": "markdown",
      "metadata": {
        "id": "T2mb4p88zXUu"
      },
      "source": [
        "## Basic"
      ]
    },
    {
      "cell_type": "code",
      "metadata": {
        "colab": {
          "base_uri": "https://localhost:8080/"
        },
        "id": "_CLFGRX2lIpx",
        "outputId": "d9bebfa0-06c4-4e0d-873c-f732e88b5e8a"
      },
      "source": [
        "# Case conversion\n",
        "string_val = \"Be good, Morty. Be better than me.\"\n",
        "\n",
        "\n",
        "# Convert to upper, lower or title case\n",
        "print(string_val.upper())\n",
        "print(string_val.lower())\n",
        "print(string_val.title())\n",
        "\n",
        "# find index of a substring in a string\n",
        "# Note: string index starts with 0\n",
        "# find takes 3 parameters substring, start, end\n",
        "print(string_val.find(\"Morty\",0,))\n",
        "\n",
        "# Replace some parts of a string\n",
        "# replace takes 3 parameters old string, new string, maximum no. of occurences to replace\n",
        "print(string_val.replace(\"Morty\",\"User\",1))\n",
        "\n",
        "# Split a string based on a delimiter\n",
        "# split takes 2 parameters - separator (default = whitespace), maxsplit (default = -1)\n",
        "print(string_val.split())\n",
        "\n",
        "# rsplit() does the same thing but from right hand side\n",
        "print(string_val.split(\" \",2))\n",
        "print(string_val.rsplit(\" \",2))\n",
        "\n",
        "# create strings from iterable objects\n",
        "# join() joins each element of an iterable (e.g.: list, string, tuple, dictionary, set) and returns a string\n",
        "seasonList = ['1','2','3','4']\n",
        "print (','.join(seasonList))\n",
        "\n"
      ],
      "execution_count": null,
      "outputs": [
        {
          "output_type": "stream",
          "text": [
            "BE GOOD, MORTY. BE BETTER THAN ME.\n",
            "be good, morty. be better than me.\n",
            "Be Good, Morty. Be Better Than Me.\n",
            "9\n",
            "Be good, User. Be better than me.\n",
            "['Be', 'good,', 'Morty.', 'Be', 'better', 'than', 'me.']\n",
            "['Be', 'good,', 'Morty. Be better than me.']\n",
            "['Be good, Morty. Be better', 'than', 'me.']\n",
            "1,2,3,4\n"
          ],
          "name": "stdout"
        }
      ]
    },
    {
      "cell_type": "markdown",
      "metadata": {
        "id": "OQNu7vt9zNwI"
      },
      "source": [
        "## Intermediate"
      ]
    },
    {
      "cell_type": "code",
      "metadata": {
        "colab": {
          "base_uri": "https://localhost:8080/"
        },
        "id": "oJHul_Q_tStP",
        "outputId": "fa5acef7-02eb-4b0e-af4e-6a75ad98e4ec"
      },
      "source": [
        "# Python string comparison is case-sensitive, casefold function allows one to perform case-insensitive string comparison.\n",
        "# An alternative (works for most common cases) could be to change case to lower or upper and then perform comparison\n",
        "if(\"test\".casefold()==\"Test\".casefold()):\n",
        "  print(\"true\")\n",
        "else:\n",
        "  print(\"false\")\n",
        "\n",
        "# Access character in a string by its index\n",
        "print(string_val[0])\n",
        "\n",
        "# Index returns the first occurence of a substring in a string\n",
        "print(string_val.index(\"Morty\"))"
      ],
      "execution_count": null,
      "outputs": [
        {
          "output_type": "stream",
          "text": [
            "true\n",
            "B\n",
            "9\n"
          ],
          "name": "stdout"
        }
      ]
    },
    {
      "cell_type": "markdown",
      "metadata": {
        "id": "X9vNhL8A-Bkk"
      },
      "source": [
        "# Working with Numbers"
      ]
    },
    {
      "cell_type": "code",
      "metadata": {
        "colab": {
          "base_uri": "https://localhost:8080/"
        },
        "id": "iBLsxjaY-HFT",
        "outputId": "8d6fc5cc-d723-4610-c123-d8c1ad4f0524"
      },
      "source": [
        "# 10 mod 3 = 10 divide by 3 and return remainder, in this case 1\n",
        "print(10 % 3)\n",
        "\n",
        "# Will throw TypeError\n",
        "#print(5 + \" is da bomb\")\n",
        "\n",
        "print(str(5) + \" is da bomb\")\n",
        "\n",
        "# abs returns absolute value\n",
        "print(abs(-5))\n",
        "\n",
        "# pow takes two argument first number to the power 2nd number\n",
        "print(pow(2,2))\n",
        "\n",
        "# max/min returns largest/smallest of two numbers\n",
        "print(max(4,8))\n",
        "\n",
        "# round a number to its nearest integer value\n",
        "print(round(2.6))\n",
        "\n",
        "\n",
        "# to use additional math functions import math module\n",
        "from math import *\n",
        "\n",
        "# floor always round down\n",
        "print(floor(2.7))\n",
        "\n",
        "#ciel always rounds up\n",
        "print(ceil(2.7))\n",
        "\n",
        "#exponent\n",
        "print(2**3)"
      ],
      "execution_count": null,
      "outputs": [
        {
          "output_type": "stream",
          "text": [
            "1\n",
            "5 is da bomb\n",
            "5\n",
            "4\n",
            "8\n",
            "3\n",
            "2\n",
            "3\n",
            "8\n"
          ],
          "name": "stdout"
        }
      ]
    },
    {
      "cell_type": "markdown",
      "metadata": {
        "id": "sXrSEwBkKK5f"
      },
      "source": [
        "# Getting input from users"
      ]
    },
    {
      "cell_type": "code",
      "metadata": {
        "colab": {
          "base_uri": "https://localhost:8080/"
        },
        "id": "Ddhka2MxKO6m",
        "outputId": "0f68be39-e646-45ad-9bd6-265d898cf28c"
      },
      "source": [
        "name = input(\"Enter your name\")\n",
        "print (\"hello \" + name)\n",
        "\n",
        "# python treats all user inputs as string, so if you are expecting a number, you will have to do explicit conversion\n",
        "num1 = input(\"enter first number\")\n",
        "num2 = input(\"enter second number\")\n",
        "result = int(num1) + int(num2)\n",
        "# if you expect decimal numbers use float for number conversion\n",
        "print(result)"
      ],
      "execution_count": null,
      "outputs": [
        {
          "output_type": "stream",
          "text": [
            "Enter your nameyo yo\n",
            "hello yo yo\n",
            "enter first number1\n",
            "enter second number2\n",
            "3\n"
          ],
          "name": "stdout"
        }
      ]
    },
    {
      "cell_type": "markdown",
      "metadata": {
        "id": "xlJ4wAh3MCh0"
      },
      "source": [
        "# Lists\n",
        "Ordered, mutable, allows duplicate elements"
      ]
    },
    {
      "cell_type": "markdown",
      "metadata": {
        "id": "LpsrMPTFNbJ8"
      },
      "source": [
        "## Basic list operations"
      ]
    },
    {
      "cell_type": "code",
      "metadata": {
        "colab": {
          "base_uri": "https://localhost:8080/"
        },
        "id": "B5njQvyUMGAG",
        "outputId": "97af2fbb-47fe-493d-9f4c-304dc87bf261"
      },
      "source": [
        "# list [] can store any type\n",
        "characters = [\"morty\",\"rick\",\"meme\"]\n",
        "# list index starts with 0\n",
        "print(characters[0])\n",
        "# list index starts with -1 from the other end\n",
        "print(characters[-1])\n",
        "\n",
        "print(characters[1:])\n",
        "print(characters[:2])\n",
        "\n",
        "# when you specify a range, last index is not included in the result, 1 upto 3, but 3 not included\n",
        "print(characters[1:3])\n",
        "\n",
        "# modify an element of list\n",
        "characters[2] = \"kevin\"\n",
        "print(characters)\n",
        "\n",
        "# check if an item exist in list \n",
        "if \"birdman\" in characters:\n",
        "  print(\"yes\")\n",
        "else:\n",
        "  print(\"no\")"
      ],
      "execution_count": null,
      "outputs": [
        {
          "output_type": "stream",
          "text": [
            "morty\n",
            "meme\n",
            "['rick', 'meme']\n",
            "['morty', 'rick']\n",
            "['rick', 'meme']\n",
            "['morty', 'rick', 'kevin']\n",
            "no\n"
          ],
          "name": "stdout"
        }
      ]
    },
    {
      "cell_type": "markdown",
      "metadata": {
        "id": "eIZkv8HfNgTq"
      },
      "source": [
        "## List functions"
      ]
    },
    {
      "cell_type": "code",
      "metadata": {
        "id": "wetMaho0OUNi"
      },
      "source": [
        "characters_rating = [1,2,3]\n",
        "\n",
        "# extend function takes an iterable and adds it to the end of the list\n",
        "characters.extend(characters_rating)\n",
        "print(characters)\n",
        "\n",
        "# append function adds an item to the end of the list\n",
        "characters.append(\"birdman\")\n",
        "print(characters)\n",
        "\n",
        "# insert function adds an item to a specific index\n",
        "characters.insert(2,'john')\n",
        "print(characters)\n",
        "\n",
        "# remove deletes first occurence of an item from the list\n",
        "characters.remove(\"john\")\n",
        "print(characters)\n",
        "\n",
        "# clear deletes everything from the list\n",
        "#characters.clear()\n",
        "#print(characters)\n",
        "\n",
        "# pop removes the last element from the list\n",
        "characters.pop()\n",
        "print(characters)\n",
        "\n",
        "# index returns the first index of the value if present, otherwise throws an error\n",
        "print(characters.index(1))\n",
        "\n",
        "# count will count the number of times a certain value appears in the list\n",
        "print(characters.count(1))\n",
        "\n",
        "# sort the list in ascending order\n",
        "characters.sort()\n",
        "print(characters)\n",
        "\n",
        "# reverses the list\n",
        "characters.reverse()\n",
        "print(characters)\n",
        "\n",
        "# copy copies all the contents of a list into another\n",
        "characters_parallel = characters.copy()\n",
        "print(characters_parallel)"
      ],
      "execution_count": null,
      "outputs": []
    },
    {
      "cell_type": "code",
      "metadata": {
        "colab": {
          "base_uri": "https://localhost:8080/"
        },
        "id": "_mp82w5OCDkc",
        "outputId": "e2b3a0e4-4679-48fc-dbeb-cd7348a0f4ee"
      },
      "source": [
        "my_list = [4,3,1,-1,-5,10]\n",
        "print(my_list)\n",
        "\n",
        "#sort function, sorts list in place but if you want to keep the original list as is, you can use sorted\n",
        "new_list = sorted(my_list)\n",
        "print(new_list)\n",
        "\n",
        "#create a new list easily\n",
        "my_list = [0]*5\n",
        "print(my_list)\n",
        "\n",
        "#join two lists using + operator\n",
        "mylist2 = [1,2,3,4,5]\n",
        "new_list = my_list + mylist2\n",
        "print(new_list)\n",
        "\n"
      ],
      "execution_count": null,
      "outputs": [
        {
          "output_type": "stream",
          "text": [
            "[4, 3, 1, -1, -5, 10]\n",
            "[-5, -1, 1, 3, 4, 10]\n",
            "[0, 0, 0, 0, 0]\n",
            "[0, 0, 0, 0, 0, 1, 2, 3, 4, 5]\n"
          ],
          "name": "stdout"
        }
      ]
    },
    {
      "cell_type": "markdown",
      "metadata": {
        "id": "dhqKj0z-2V9R"
      },
      "source": [
        "## 2d Lists"
      ]
    },
    {
      "cell_type": "code",
      "metadata": {
        "colab": {
          "base_uri": "https://localhost:8080/"
        },
        "id": "bOrvSULa2bOp",
        "outputId": "b0aecae4-1907-4659-9573-55611a2d0ea2"
      },
      "source": [
        "number_grid = [\n",
        "               [1,2,3],\n",
        "               [4,5,6],\n",
        "               [7,8,9],\n",
        "               [0]\n",
        "]\n",
        "\n",
        "# [row][column]\n",
        "print(number_grid[0][0])\n",
        "\n",
        "for row in number_grid:\n",
        "  for col in row:\n",
        "    print(col)"
      ],
      "execution_count": null,
      "outputs": [
        {
          "output_type": "stream",
          "text": [
            "1\n",
            "1\n",
            "2\n",
            "3\n",
            "4\n",
            "5\n",
            "6\n",
            "7\n",
            "8\n",
            "9\n",
            "0\n"
          ],
          "name": "stdout"
        }
      ]
    },
    {
      "cell_type": "markdown",
      "metadata": {
        "id": "MTTrbphQRBYu"
      },
      "source": [
        "# Tuples"
      ]
    },
    {
      "cell_type": "code",
      "metadata": {
        "colab": {
          "base_uri": "https://localhost:8080/"
        },
        "id": "W2zQveYwREC6",
        "outputId": "e0863b86-ccfe-4185-9c17-6d7b6ccfefb7"
      },
      "source": [
        "# create using ()\n",
        "# tuples are immutable\n",
        "coordinates = (4,5)\n",
        "\n",
        "print(coordinates)\n",
        "# index starts with 0\n",
        "print(coordinates[0])"
      ],
      "execution_count": null,
      "outputs": [
        {
          "output_type": "stream",
          "text": [
            "(4, 5)\n",
            "4\n"
          ],
          "name": "stdout"
        }
      ]
    },
    {
      "cell_type": "markdown",
      "metadata": {
        "id": "zkSQas6HStE7"
      },
      "source": [
        "# Functions"
      ]
    },
    {
      "cell_type": "code",
      "metadata": {
        "colab": {
          "base_uri": "https://localhost:8080/"
        },
        "id": "NTdfbt0GSvwJ",
        "outputId": "3bb76369-240e-44cb-cede-80726ae9c9a1"
      },
      "source": [
        "def say_hello():\n",
        "  print(\"hello\")\n",
        "\n",
        "say_hello()\n",
        "\n",
        "\n",
        "# passing one parameter\n",
        "def say_hello2(name):\n",
        "  print(\"hello \" + name)\n",
        "\n",
        "say_hello2(\"avi\")\n",
        "\n",
        "# passing two parameter\n",
        "def say_hello3(name,age):\n",
        "  print(\"hello \" + name + \" you are \"+ age + \" years old\")\n",
        "\n",
        "say_hello3(\"avi\",\"35\")\n",
        "\n",
        "# return result from a function\n",
        "def num_power(num,power):\n",
        "  return pow(num,power)\n",
        "  print(\"this will not get printed\")\n",
        "\n",
        "print(cube(2,3))"
      ],
      "execution_count": null,
      "outputs": [
        {
          "output_type": "stream",
          "text": [
            "hello\n",
            "hello avi\n",
            "hello avi you are 35 years old\n",
            "8.0\n"
          ],
          "name": "stdout"
        }
      ]
    },
    {
      "cell_type": "markdown",
      "metadata": {
        "id": "z-AOLbu0U64M"
      },
      "source": [
        "# IF statement"
      ]
    },
    {
      "cell_type": "code",
      "metadata": {
        "colab": {
          "base_uri": "https://localhost:8080/"
        },
        "id": "zVXj8YfXU9oX",
        "outputId": "064882e4-6d59-40a0-c73a-663a59b31654"
      },
      "source": [
        "is_male = False\n",
        "is_tall = False\n",
        "if is_male:\n",
        "  print (\"Yes\")\n",
        "elif is_tall:\n",
        "  print(\"No\")\n",
        "else:\n",
        "  print(\"maybe\")"
      ],
      "execution_count": null,
      "outputs": [
        {
          "output_type": "stream",
          "text": [
            "maybe\n"
          ],
          "name": "stdout"
        }
      ]
    },
    {
      "cell_type": "markdown",
      "metadata": {
        "id": "jcdb2sSwyBLe"
      },
      "source": [
        "# Dictionaries"
      ]
    },
    {
      "cell_type": "code",
      "metadata": {
        "colab": {
          "base_uri": "https://localhost:8080/"
        },
        "id": "0O2elsGlyGv7",
        "outputId": "cbe151a5-62f6-43b6-db71-7b0a9bf886c2"
      },
      "source": [
        "# stores data as key:value pair\n",
        "# keys should be unique\n",
        "calendar_month = {\"Jan\":\"January\",\"Feb\":\"February\",\"Mar\":\"March\"}\n",
        "\n",
        "print(calendar_month[\"Mar\"])\n",
        "# get allows you to specify a default value, which will be returned when the given key is not found\n",
        "print(calendar_month.get(\"Apr\",\"April\"))"
      ],
      "execution_count": null,
      "outputs": [
        {
          "output_type": "stream",
          "text": [
            "March\n",
            "April\n"
          ],
          "name": "stdout"
        }
      ]
    },
    {
      "cell_type": "markdown",
      "metadata": {
        "id": "q38k1wjBy6o1"
      },
      "source": [
        "# While Loops"
      ]
    },
    {
      "cell_type": "code",
      "metadata": {
        "id": "-0ro2NaXy9hk"
      },
      "source": [
        "i = 1\n",
        "while i<=10:\n",
        "  print(i)\n",
        "  i+=1\n",
        "\n"
      ],
      "execution_count": null,
      "outputs": []
    },
    {
      "cell_type": "markdown",
      "metadata": {
        "id": "2NmhvZi50LwU"
      },
      "source": [
        "# For loops"
      ]
    },
    {
      "cell_type": "code",
      "metadata": {
        "id": "CevhDiMx0PUR"
      },
      "source": [
        "for i in range(1,10):\n",
        "  print(i)\n",
        "\n",
        "for letter in \"Hello Mr Nobody\":\n",
        "  print(letter)\n",
        "\n",
        "friends = [\"Joey\",\"Chandler\",\"Phoebe\"]\n",
        "for friend in friends:\n",
        "  print(friend)\n",
        "\n",
        "for index in range(len(friends)):\n",
        "  print(friends[index])\n",
        "\n",
        "for i in range(5):\n",
        "  if i%2 == 0:\n",
        "    print(str(i) + \" is an even number\")\n",
        "  else:\n",
        "    print(str(i) + \" is an odd number\")"
      ],
      "execution_count": null,
      "outputs": []
    },
    {
      "cell_type": "markdown",
      "metadata": {
        "id": "lSyOA5P43yHs"
      },
      "source": [
        "# Exception Handling"
      ]
    },
    {
      "cell_type": "code",
      "metadata": {
        "colab": {
          "base_uri": "https://localhost:8080/"
        },
        "id": "_Q3g-YLi31QD",
        "outputId": "0160d451-ebbe-4998-9541-ef9f6c1a2cbb"
      },
      "source": [
        "try:\n",
        "  answer = 10/0\n",
        "  number = int(input(\"Enter a number: \"))\n",
        "  print(number)\n",
        "\n",
        "except ZeroDivisionError as err:\n",
        "  print(\"Zero division error\")\n",
        "  print(err) # prints the python system error message\n",
        "\n",
        "# default except should be the last except\n",
        "# best practice is to avoid broad excepts like this and be specific about the error we are trying to catch\n",
        "except:\n",
        "  print(\"enter a valid number\")\n"
      ],
      "execution_count": null,
      "outputs": [
        {
          "output_type": "stream",
          "text": [
            "Zero division error\n",
            "division by zero\n"
          ],
          "name": "stdout"
        }
      ]
    },
    {
      "cell_type": "markdown",
      "metadata": {
        "id": "brLE2v2N7v9p"
      },
      "source": [
        "# File handling\n",
        "\n",
        "r\tOpens a file for reading. (default)\n",
        "\n",
        "w\tOpens a file for writing. Creates a new file if it does not exist or truncates the file if it exists.\n",
        "\n",
        "x\tOpens a file for exclusive creation. If the file already exists, the operation fails.\n",
        "\n",
        "a\tOpens a file for appending at the end of the file without truncating it. Creates a new file if it does not exist.\n",
        "\n",
        "t\tOpens in text mode. (default)\n",
        "\n",
        "b\tOpens in binary mode.\n",
        "\n",
        "\"+\"\tOpens a file for updating (reading and writing)\n"
      ]
    },
    {
      "cell_type": "code",
      "metadata": {
        "colab": {
          "base_uri": "https://localhost:8080/"
        },
        "id": "Y0f3MRAU7zhT",
        "outputId": "4ae12a66-7ad8-403d-8d5a-f969271d7400"
      },
      "source": [
        "#from google.colab import files\n",
        "#equity_value_data = files.upload()\n",
        "\n",
        "# https://heartbeat.fritz.ai/getting-started-with-google-colab-notebooks-117e2bb0c220\n",
        "\n",
        "employee_file = open(\"/content/sample_data/employees.txt\", \"r\")\n",
        "\n",
        "print(employee_file.readable()) # returns a boolean value to indicate whether file can be read or not\n",
        "#print(employee_file.read()) # spits out entire content of the file\n",
        "#print(employee_file.readline()) # reads one line\n",
        "#print(employee_file.readlines()) # returns a list of lines from the input stream\n",
        "#print(employee_file.readlines()[1]) \n",
        "\n",
        "for employee in employee_file.readlines():\n",
        "  print(employee)\n",
        "\n",
        "employee_file.close() # best practice to close the file\n",
        "\n",
        "employee_filewrite = open(\"/content/sample_data/employees.txt\", \"a\")\n",
        "employee_filewrite.write(\"\\nToby - HR\")\n",
        "employee_filewrite.close() # best practice to close the file\n",
        "\n"
      ],
      "execution_count": null,
      "outputs": [
        {
          "output_type": "stream",
          "text": [
            "True\n",
            "Jim - Salesman\n",
            "\n",
            "Dwight - SalesmanP\n",
            "\n",
            "Pam - Receptionist\n",
            "\n",
            "Michael - Manager\n",
            "\n",
            "Oscar - Accountant\n",
            "\n",
            " Toby - HR\n"
          ],
          "name": "stdout"
        }
      ]
    },
    {
      "cell_type": "markdown",
      "metadata": {
        "id": "4ftlImdtBTff"
      },
      "source": [
        "# Classes & Objects"
      ]
    },
    {
      "cell_type": "code",
      "metadata": {
        "colab": {
          "base_uri": "https://localhost:8080/"
        },
        "id": "j1owH1ZOBXSB",
        "outputId": "28f9543b-86e0-4048-dd30-d3a34a8fc2a7"
      },
      "source": [
        "class Student:\n",
        "  def __init__(self, name, major, gpa, is_on_probation):\n",
        "    self.name = name\n",
        "    self.major = major\n",
        "    self.gpa= gpa\n",
        "    self.is_on_probation = is_on_probation\n",
        "  #class functions\n",
        "  def on_honor_roll(self):\n",
        "    if self.gpa >= 3.5:\n",
        "      return True\n",
        "    else:\n",
        "      return False\n",
        "  \n",
        "\n",
        "student1 = Student(\"Rick\", \"Science\", 5, False) # creating student1 object \n",
        "student2 = Student(\"Morty\", \"Science\", 3, True)\n",
        "\n",
        "print(student1.name)\n",
        "print(student2.gpa)\n",
        "print(student1.on_honor_roll())"
      ],
      "execution_count": null,
      "outputs": [
        {
          "output_type": "stream",
          "text": [
            "Rick\n",
            "3\n",
            "True\n"
          ],
          "name": "stdout"
        }
      ]
    },
    {
      "cell_type": "code",
      "metadata": {
        "colab": {
          "base_uri": "https://localhost:8080/"
        },
        "id": "JD8e3o7K9bDb",
        "outputId": "db50dabf-8378-47fd-8cf1-454948bd9e47"
      },
      "source": [
        "class Chef:\n",
        "\n",
        "  def make_chicken(self):\n",
        "    print(\"The chef makes a chicken\")\n",
        "\n",
        "  def make_salad(self):\n",
        "    print(\"the chef makes a salad\")\n",
        "  \n",
        "  def make_special_dish(self):\n",
        "    print(\"the chef makes a bbq dish\")\n",
        "  \n",
        "myChef = Chef()\n",
        "myChef.make_chicken()\n",
        "\n",
        "class ChineseChef(Chef):\n",
        "  def make_fried_rice(self):\n",
        "    print(\"the chef makes fried rice\")\n",
        "    \n",
        "  #overriding function\n",
        "  def make_special_dish(self):\n",
        "    print(\"the chef makes orange chicken\")\n",
        "\n",
        "myChineseChef = ChineseChef()\n",
        "myChineseChef.make_fried_rice()\n",
        "myChineseChef.make_special_dish()\n"
      ],
      "execution_count": null,
      "outputs": [
        {
          "output_type": "stream",
          "text": [
            "The chef makes a chicken\n",
            "the chef makes fried rice\n",
            "the chef makes orange chicken\n"
          ],
          "name": "stdout"
        }
      ]
    }
  ]
}