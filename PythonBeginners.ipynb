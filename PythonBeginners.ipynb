{
  "nbformat": 4,
  "nbformat_minor": 0,
  "metadata": {
    "colab": {
      "name": "PythonBeginners.ipynb",
      "provenance": [],
      "collapsed_sections": [],
      "authorship_tag": "ABX9TyMx2pXFGjNakGoZCmDjk0Ac"
    },
    "kernelspec": {
      "name": "python3",
      "display_name": "Python 3"
    },
    "language_info": {
      "name": "python"
    }
  },
  "cells": [
    {
      "cell_type": "markdown",
      "metadata": {
        "id": "FElmiH6djIBu"
      },
      "source": [
        "# Python String Functions"
      ]
    },
    {
      "cell_type": "markdown",
      "metadata": {
        "id": "T2mb4p88zXUu"
      },
      "source": [
        "## Basic"
      ]
    },
    {
      "cell_type": "code",
      "metadata": {
        "colab": {
          "base_uri": "https://localhost:8080/"
        },
        "id": "_CLFGRX2lIpx",
        "outputId": "7f707c30-f1e7-4a34-b1f5-99c898b06d37"
      },
      "source": [
        "# Case conversion\n",
        "string_val = \"Be good, Morty. Be better than me.\"\n",
        "\n",
        "\n",
        "print(\"--Convert to upper, lower or title case--\")\n",
        "print(string_val.upper())\n",
        "print(string_val.lower())\n",
        "print(string_val.title())\n",
        "\n",
        "print(\"\\n--find index of a substring in a string--\")\n",
        "# String index starts with 0\n",
        "print(string_val.find(\"Morty\",0,))\n",
        "\n",
        "print(\"\\n--Replace some parts of a string--\")\n",
        "print(string_val.replace(\"Morty\",\"User\",1))\n",
        "\n",
        "print(\"\\n--Split a string based on a delimiter (default = whitespace). Returns a List --\")\n",
        "print(string_val.split())\n",
        "\n",
        "# rsplit() does the same thing but from right hand side\n",
        "print(string_val.split(\" \",2))\n",
        "print(string_val.rsplit(\" \",2))\n",
        "\n",
        "# split & rsplit takes two parameters - sep (separator) and maxsplit (number of max splits, default = -1 i.e. perform all possible splits)\n",
        "\n",
        "print(\"\\n----\")\n"
      ],
      "execution_count": 47,
      "outputs": [
        {
          "output_type": "stream",
          "text": [
            "--Convert to upper, lower or title case--\n",
            "BE GOOD, MORTY. BE BETTER THAN ME.\n",
            "be good, morty. be better than me.\n",
            "Be Good, Morty. Be Better Than Me.\n",
            "\n",
            "--find index of a substring in a string--\n",
            "9\n",
            "\n",
            "--Replace some parts of a string--\n",
            "Be good, User. Be better than me.\n",
            "\n",
            "--Split a string based on a delimiter (default = whitespace). Returns a List --\n",
            "['Be', 'good,', 'Morty.', 'Be', 'better', 'than', 'me.']\n",
            "['Be', 'good,', 'Morty. Be better than me.']\n",
            "['Be good, Morty. Be better', 'than', 'me.']\n",
            "\n",
            "----\n"
          ],
          "name": "stdout"
        }
      ]
    },
    {
      "cell_type": "markdown",
      "metadata": {
        "id": "OQNu7vt9zNwI"
      },
      "source": [
        "## Intermediate"
      ]
    },
    {
      "cell_type": "code",
      "metadata": {
        "colab": {
          "base_uri": "https://localhost:8080/"
        },
        "id": "oJHul_Q_tStP",
        "outputId": "23b1b1db-fdd9-4062-ccb4-a5e9cae5c319"
      },
      "source": [
        "# Python string comparison is case-sensitive, casefold function allows one to perform case-insensitive string comparison.\n",
        "# An alternative (works for most common cases) could be to change case to lower or upper and then perform comparison\n",
        "if(\"test\".casefold()==\"Test\".casefold()):\n",
        "  print(\"true\")\n",
        "else:\n",
        "  print(\"false\")"
      ],
      "execution_count": 41,
      "outputs": [
        {
          "output_type": "stream",
          "text": [
            "true\n"
          ],
          "name": "stdout"
        }
      ]
    }
  ]
}