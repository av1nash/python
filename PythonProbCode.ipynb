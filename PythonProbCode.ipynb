{
 "cells": [
  {
   "cell_type": "markdown",
   "metadata": {},
   "source": [
    "## 1. Maximum difference between two elements such that larger element appears after the smaller number\n",
    "\n",
    "Given an array arr[] of integers, find out the difference between any two elements such that larger element appears after the smaller number in arr[].\n",
    "\n",
    "## Examples: \n",
    "If array is [2, 3, 10, 6, 4, 8, 1] then returned value should be 8 (Diff between 10 and 2). \n",
    "If array is [ 7, 9, 5, 6, 3, 2 ] then returned value should be 2 (Diff between 7 and 9)"
   ]
  },
  {
   "cell_type": "code",
   "execution_count": 2,
   "metadata": {
    "collapsed": false
   },
   "outputs": [
    {
     "name": "stdout",
     "output_type": "stream",
     "text": [
      "8\n"
     ]
    }
   ],
   "source": [
    "#Basic idea is to loop over every element of the list, keeping track of the minimum element and maximum difference\n",
    "items = [2, 3, 10, 6, 4, 8, 1]\n",
    "#lets assume that minimum element is the first element\n",
    "min_element = items[0]\n",
    "#and maximum difference is the difference of first two elements (larger index - smaller index)\n",
    "max_diff = items[1] - items[0]\n",
    "#loop through all the elements in the list\n",
    "for i in xrange(1,len(items)):\n",
    "    if (items[i] - min_element > max_diff):\n",
    "        max_diff= items[i] - min_element\n",
    "    if (items[i]<min_element):\n",
    "        min_element=items[i]\n",
    "\n",
    "print(max_diff)\n",
    "    \n",
    "    "
   ]
  },
  {
   "cell_type": "markdown",
   "metadata": {
    "collapsed": true
   },
   "source": [
    "# 2. Fibonnaci Series"
   ]
  },
  {
   "cell_type": "code",
   "execution_count": 1,
   "metadata": {
    "collapsed": false
   },
   "outputs": [
    {
     "data": {
      "text/plain": [
       "8"
      ]
     },
     "execution_count": 1,
     "metadata": {},
     "output_type": "execute_result"
    }
   ],
   "source": [
    "def fibo(n):\n",
    "    if (n<=1):\n",
    "        return 1\n",
    "    else:\n",
    "        return (fibo(n-1)+fibo(n-2))\n",
    "\n",
    "fibo(5)"
   ]
  },
  {
   "cell_type": "code",
   "execution_count": 8,
   "metadata": {
    "collapsed": false
   },
   "outputs": [
    {
     "data": {
      "text/plain": [
       "5"
      ]
     },
     "execution_count": 8,
     "metadata": {},
     "output_type": "execute_result"
    }
   ],
   "source": [
    "def mem_fibo(n,_cache={}):\n",
    "    if n in _cache:\n",
    "        return _cache[n]\n",
    "    elif n>1:\n",
    "        return _cache.setdefault(n,mem_fibo(n-1) + mem_fibo(n-2))\n",
    "    return n\n",
    "mem_fibo(5)"
   ]
  },
  {
   "cell_type": "markdown",
   "metadata": {},
   "source": [
    "# 3. Transposing a 3 X 4 matrix (using nested List comprehension)"
   ]
  },
  {
   "cell_type": "code",
   "execution_count": 6,
   "metadata": {
    "collapsed": false
   },
   "outputs": [
    {
     "data": {
      "text/plain": [
       "[[2, 6, 5], [3, 8, 3], [4, 3, 2], [5, 9, 6]]"
      ]
     },
     "execution_count": 6,
     "metadata": {},
     "output_type": "execute_result"
    }
   ],
   "source": [
    "matrix = [[2,3,4,5],\n",
    "         [6,8,3,9],\n",
    "         [5,3,2,6]\n",
    "    ]\n",
    "[ [row[i] for row in matrix] for i in xrange(4)]\n",
    "    "
   ]
  },
  {
   "cell_type": "markdown",
   "metadata": {
    "collapsed": true
   },
   "source": [
    "# 4. Partitions and Products\n",
    "\n",
    "Given a positive integer n, break it into the sum of at least two positive integers and maximize the product of those integers. Return the maximum product you can get.\n",
    "\n",
    "For example, given n = 2, return 1 (2 = 1 + 1); given n = 10, return 36 (10 = 3 + 3 + 4).\n",
    "\n",
    "Note: you may assume that n is not less than 2.\n",
    "\n",
    "[Problem Source](https://leetcode.com/problems/integer-break/)"
   ]
  },
  {
   "cell_type": "markdown",
   "metadata": {},
   "source": [
    "## 4. Solution - Partitions and Products\n",
    "This is a purely mathematical problem, if you know the math behind it, writing an algorithm to find a solution is the easy part.\n",
    "To understand the math behind it you can refer to following two links - \n",
    "\n",
    "[Mathematical Explanation](http://mathforum.org/library/drmath/view/61965.html)\n",
    "\n",
    "[Online Encyclopedia of integer sequences](https://oeis.org/A000792)\n",
    "\n",
    "\n",
    "Let us take the most simple solution of this problem defined in OEIS:\n",
    "> Maximum of products of partitions of n: maximal value of Product k_i for any way of writing n = Sum k_i. To find the answer, take as many of the k_i's as possible to be 3 and then use one or two 2's (see formula lines below).\n",
    "\n",
    "Writing the above mentioned steps in the form of an algorithm:\n",
    "1. Let Q be the quotient when you divide the input number (n) by 3. \n",
    "2. If division of n by 3 yields remainder == 0, Maximum product = 3^Q\n",
    "3. If division of n by 3 yields remainder == 1, Maximum product = (3^(Q-1)) X 4\n",
    "4. If division of n by 3 yields remainder == 2, Maximum product = (3 ^ Q) X 2\n",
    "\n",
    "Following program implement above steps in Python\n"
   ]
  },
  {
   "cell_type": "code",
   "execution_count": 23,
   "metadata": {
    "collapsed": true
   },
   "outputs": [],
   "source": [
    "def findMaxProd_v1(n):\n",
    "    if (n%3)==0:\n",
    "        return 3**(n//3)\n",
    "    elif (n%3)==1:\n",
    "        return (3**((n//3)-1))*4\n",
    "    else:\n",
    "        return (3**((n//3)))*2\n"
   ]
  },
  {
   "cell_type": "code",
   "execution_count": 39,
   "metadata": {
    "collapsed": false
   },
   "outputs": [
    {
     "data": {
      "text/plain": [
       "708588"
      ]
     },
     "execution_count": 39,
     "metadata": {},
     "output_type": "execute_result"
    }
   ],
   "source": [
    "findMaxProd_v1(37)"
   ]
  },
  {
   "cell_type": "markdown",
   "metadata": {},
   "source": [
    "I found another solution on leetcode, it is a one liner and uses list comprehension to solve this problem.\n",
    "But as simple as it looks, it is a little difficult to wrap your head around it.\n",
    "Take a look - "
   ]
  },
  {
   "cell_type": "code",
   "execution_count": 63,
   "metadata": {
    "collapsed": true
   },
   "outputs": [],
   "source": [
    "def findMaxProd(n):\n",
    "    A=[]\n",
    "    A.extend([0,1])\n",
    "    for i in range(2,n+1):\n",
    "        #print('iteration#',i)\n",
    "        A.append(max([max([j,A[j]])*max([(i-j),A[i-j]]) for j in range(1,i)]))\n",
    "        print(A)\n",
    "    return A[n] "
   ]
  },
  {
   "cell_type": "code",
   "execution_count": 64,
   "metadata": {
    "collapsed": false
   },
   "outputs": [
    {
     "name": "stdout",
     "output_type": "stream",
     "text": [
      "[0, 1, 1]\n",
      "[0, 1, 1, 2]\n",
      "[0, 1, 1, 2, 4]\n",
      "[0, 1, 1, 2, 4, 6]\n",
      "[0, 1, 1, 2, 4, 6, 9]\n",
      "[0, 1, 1, 2, 4, 6, 9, 12]\n",
      "[0, 1, 1, 2, 4, 6, 9, 12, 18]\n",
      "[0, 1, 1, 2, 4, 6, 9, 12, 18, 27]\n",
      "[0, 1, 1, 2, 4, 6, 9, 12, 18, 27, 36]\n"
     ]
    },
    {
     "data": {
      "text/plain": [
       "36"
      ]
     },
     "execution_count": 64,
     "metadata": {},
     "output_type": "execute_result"
    }
   ],
   "source": [
    "findMaxProd(10)"
   ]
  },
  {
   "cell_type": "markdown",
   "metadata": {},
   "source": [
    "The basic idea in the code above is that you maintain a list of maximum products, starting with [0,1].\n",
    "But how do you find that maximum product ?\n",
    "This algorithm relies on the fact that if you lay down the numbers in sequential order and then multiply them with the numbers you get by laying them down in reverse order, you will find the maximum product - \n",
    "\n",
    "A [0,1]\n",
    "**1st Iteration**\n",
    "Inner Loop runs just once, and creates a list of only one element [1], Max of which is 1.\n",
    "So append 1 to the list A\n",
    "A[0,1,1]\n",
    "**2nd Iteration**\n",
    "Inner loop runs twice now and compares\n",
    "MAX (1,A[1]),MAX(2,A[2])\n",
    "[1,2]\n",
    "\n",
    "MAX(2,A[2],MAX(1,A[1])\n",
    "[2,1]\n",
    "\n",
    "Multiplies this result to get\n",
    "[2,2]\n",
    "Max([2,2]) = 2\n",
    "Append 2\n",
    "A[0,1,1,2]\n",
    "\n",
    "and so on.."
   ]
  },
  {
   "cell_type": "markdown",
   "metadata": {},
   "source": [
    "# 5. Reverse vowels of a string\n",
    "\n",
    "Write a function that takes a string as input and reverse only the vowels of a string.\n",
    "\n",
    "Example 1:\n",
    "Given s = \"hello\", return \"holle\".\n",
    "\n",
    "Example 2:\n",
    "Given s = \"leetcode\", return \"leotcede\"."
   ]
  },
  {
   "cell_type": "markdown",
   "metadata": {},
   "source": [
    "## 5. Solution - Reverse vowels of a string\n",
    "Idea is to create a List of the same size as your input string.\n",
    "We will populate this List starting from both the ends of the string.\n",
    "Whenever there is a situation where we need to traverse from both ends, we need two variables to keep track of each index(side).\n"
   ]
  },
  {
   "cell_type": "code",
   "execution_count": 75,
   "metadata": {
    "collapsed": true
   },
   "outputs": [],
   "source": [
    "def reverseVowels(s):\n",
    "    t=[0]*len(s)\n",
    "    vowels = ['a','e','i','o','u','A','E','I','O','U']\n",
    "    p1= 0\n",
    "    p2= len(s)-1\n",
    "    while p1 <= p2:\n",
    "        if s[p1] not in vowels:\n",
    "            t[p1]=s[p1]\n",
    "            p1+=1\n",
    "            print(t)\n",
    "        elif s[p2] not in vowels:\n",
    "            t[p2]=s[p2]\n",
    "            p2-=1\n",
    "            print(t)\n",
    "        else:\n",
    "            t[p1]=s[p2]\n",
    "            t[p2]=s[p1]\n",
    "            p1+=1\n",
    "            p2-=1\n",
    "            print(t)\n",
    "    return \"\".join(t)\n",
    "    \n",
    "    "
   ]
  },
  {
   "cell_type": "code",
   "execution_count": 76,
   "metadata": {
    "collapsed": false
   },
   "outputs": [
    {
     "name": "stdout",
     "output_type": "stream",
     "text": [
      "['w', 0, 0, 0, 0]\n",
      "['w', 0, 0, 0, 'd']\n",
      "['w', 'e', 0, 'i', 'd']\n",
      "['w', 'e', 's', 'i', 'd']\n"
     ]
    },
    {
     "data": {
      "text/plain": [
       "'wesid'"
      ]
     },
     "execution_count": 76,
     "metadata": {},
     "output_type": "execute_result"
    }
   ],
   "source": [
    "reverseVowels('wised')"
   ]
  },
  {
   "cell_type": "code",
   "execution_count": null,
   "metadata": {
    "collapsed": true
   },
   "outputs": [],
   "source": []
  }
 ],
 "metadata": {
  "kernelspec": {
   "display_name": "Python 2",
   "language": "python",
   "name": "python2"
  },
  "language_info": {
   "codemirror_mode": {
    "name": "ipython",
    "version": 2
   },
   "file_extension": ".py",
   "mimetype": "text/x-python",
   "name": "python",
   "nbconvert_exporter": "python",
   "pygments_lexer": "ipython2",
   "version": "2.7.11"
  }
 },
 "nbformat": 4,
 "nbformat_minor": 0
}
