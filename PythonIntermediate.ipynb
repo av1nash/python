{
  "nbformat": 4,
  "nbformat_minor": 0,
  "metadata": {
    "colab": {
      "name": "PythonIntermediate.ipynb",
      "provenance": [],
      "collapsed_sections": [],
      "authorship_tag": "ABX9TyOaCWLckwWK+rOfJMLSvcoJ"
    },
    "kernelspec": {
      "name": "python3",
      "display_name": "Python 3"
    },
    "language_info": {
      "name": "python"
    }
  },
  "cells": [
    {
      "cell_type": "code",
      "metadata": {
        "colab": {
          "base_uri": "https://localhost:8080/"
        },
        "id": "3DGFzx1lmkQI",
        "outputId": "c77de8b1-e47e-4892-df08-d8984f019e7f"
      },
      "source": [
        "def sum2(n):\n",
        "  sum_of_num = (n*(n+1))/2\n",
        "  return sum_of_num\n",
        "\n",
        "print(sum2(5))\n"
      ],
      "execution_count": null,
      "outputs": [
        {
          "output_type": "stream",
          "text": [
            "15.0\n"
          ],
          "name": "stdout"
        }
      ]
    },
    {
      "cell_type": "code",
      "metadata": {
        "colab": {
          "base_uri": "https://localhost:8080/"
        },
        "id": "8kfy13wPn9KD",
        "outputId": "e7172739-dab0-424c-8738-9a073d26ee31"
      },
      "source": [
        "%timeit sum2(100)"
      ],
      "execution_count": null,
      "outputs": [
        {
          "output_type": "stream",
          "text": [
            "The slowest run took 15.90 times longer than the fastest. This could mean that an intermediate result is being cached.\n",
            "10000000 loops, best of 5: 172 ns per loop\n"
          ],
          "name": "stdout"
        }
      ]
    },
    {
      "cell_type": "markdown",
      "metadata": {
        "id": "tWhH-hnm9Tb-"
      },
      "source": [
        "My notes from following this course - https://www.youtube.com/watch?v=HGOBQPFzWKo&list=PLmRagU2RjpNL9DAgwyIfJbt3L3b2vdCCY&index=1&t=969s\n"
      ]
    },
    {
      "cell_type": "markdown",
      "metadata": {
        "id": "zEmUT4r0MGm7"
      },
      "source": [
        "# Lists\n",
        "ordered, mutable, allows duplicate elements"
      ]
    },
    {
      "cell_type": "markdown",
      "metadata": {
        "id": "KLV81I5NRrBG"
      },
      "source": [
        "## List selection"
      ]
    },
    {
      "cell_type": "code",
      "metadata": {
        "id": "sM-LX3g0MKC3"
      },
      "source": [
        "myList = [1,2,3,4,5,6,7,8,9]\n",
        "a = myList[1:5] #index 1 to 5 excluding 5\n",
        "print(a)\n",
        "\n",
        "a = myList[:5] #when start index is not specified it starts with index 0\n",
        "print(a)\n",
        "\n",
        "a = myList[1:] #when end index is not specified it goes till last index\n",
        "print(a)\n",
        "\n",
        "a = myList[1::2] #start from index 1 and select every second item (this is called step index)\n",
        "print(a)\n",
        "\n",
        "a=myList[::-1] # reverses the list\n",
        "print(a)\n"
      ],
      "execution_count": null,
      "outputs": []
    },
    {
      "cell_type": "markdown",
      "metadata": {
        "id": "fVi0jdpMR9k2"
      },
      "source": [
        "## Copying List"
      ]
    },
    {
      "cell_type": "code",
      "metadata": {
        "id": "y88fXl-ASAE-"
      },
      "source": [
        "#copying a list\n",
        "list_org = [\"banana\",\"cherry\",\"apple\"]\n",
        "list_cpy = list_org\n",
        "print([list_cpy])\n",
        " \n",
        "list_cpy[2] = \"strawberry\"\n",
        "print([list_org]) #list_cpy & list_org are pointing to the same list, which is why list_org is also modified when list_cpy is modified\n",
        "\n",
        "list_true_cpy = list_org.copy() #copy method copies the content of the list to the new list\n",
        "list_true_cpy = list(list_org) #list function also creates copy of the list passed as parameter\n",
        "list_true_cpy = list_org[:] #slicing also creates copy of the list\n",
        "print(list_true_cpy)\n",
        "\n"
      ],
      "execution_count": null,
      "outputs": []
    },
    {
      "cell_type": "markdown",
      "metadata": {
        "id": "ZwBBjAQUSBtS"
      },
      "source": [
        "## List comprehension"
      ]
    },
    {
      "cell_type": "code",
      "metadata": {
        "id": "OfTAScuSSEXQ"
      },
      "source": [
        "myList = [1,2,3,4,5,6]\n",
        "b = [i*i for i in myList] # syntax = [expression for variable in List]\n",
        "print(myList)\n",
        "print(b)"
      ],
      "execution_count": null,
      "outputs": []
    },
    {
      "cell_type": "markdown",
      "metadata": {
        "id": "SKO4vvZGSHdN"
      },
      "source": [
        "# Tuple\n",
        "ordered, immutable, allows duplicate elements"
      ]
    },
    {
      "cell_type": "markdown",
      "metadata": {
        "id": "J2tIBe5aSY54"
      },
      "source": [
        "## Tuple creation & selection"
      ]
    },
    {
      "cell_type": "code",
      "metadata": {
        "id": "5V-g_sCwSa5G"
      },
      "source": [
        "mytuple = (\"max\",28,\"Boston\")\n",
        "print(mytuple)\n",
        "\n",
        "mytuple = \"max\",28,\"Boston\" #without paranthese, still a tuple\n",
        "print(type(mytuple))\n",
        "\n",
        "mytuple = (\"max\") #with just one element, this will not get recognized as tuple but a string, if it was a number, it would be recognized as int or float\n",
        "print(type(mytuple))\n",
        "\n",
        "mytuple = (\"max\",) #end with a comma to get it identified as tuple\n",
        "print(type(mytuple))\n",
        "\n",
        "mytuple = tuple([\"max\",28,\"Boston\"]) #built in tuple function, if no argument is specified it creates an empty tuple. If an argument is specified it initializes tuple with the values inside that iterable.\n",
        "print(mytuple)\n",
        "\n",
        "item = mytuple[1]\n",
        "print(item)\n",
        "\n",
        "item = mytuple[-1] # refers last item\n",
        "print(item)\n",
        "\n",
        "\n",
        "#mytuple[0] = \"true\" \n",
        "# not possible because tuple is immutable\n",
        "\n"
      ],
      "execution_count": null,
      "outputs": []
    },
    {
      "cell_type": "markdown",
      "metadata": {
        "id": "NyWCEIAtXgsq"
      },
      "source": [
        "## Iterating over tuple & tuple functions"
      ]
    },
    {
      "cell_type": "code",
      "metadata": {
        "id": "8GBfTEJPXkEZ"
      },
      "source": [
        "for i in mytuple:\n",
        "  print(i)\n",
        "\n",
        "\n",
        "if \"max\" in mytuple: #to check if something is inside tuple\n",
        "  print(\"yes\")\n",
        "else:\n",
        "  print(\"no\")\n",
        "\n",
        "mytuple = ['a','p','p','l','e']\n",
        "\n",
        "print(len(mytuple)) #get length of tuple\n",
        " \n",
        "print(mytuple.count('p'))#count number of occurence\n",
        "\n",
        "print(mytuple.index('p')) # returns index of first occurence of the element in tuple\n"
      ],
      "execution_count": null,
      "outputs": []
    },
    {
      "cell_type": "markdown",
      "metadata": {
        "id": "XRax-2iqXwIF"
      },
      "source": [
        "## Converting Tuple"
      ]
    },
    {
      "cell_type": "code",
      "metadata": {
        "id": "V_0vkvEtXzs5"
      },
      "source": [
        "\n",
        "my_list = list(mytuple) #converting tuple to list and vice versa\n",
        "mytuple2 = tuple(my_list)\n",
        "\n"
      ],
      "execution_count": null,
      "outputs": []
    },
    {
      "cell_type": "markdown",
      "metadata": {
        "id": "rqC6WzzrX26N"
      },
      "source": [
        "## Slicing & unpacking"
      ]
    },
    {
      "cell_type": "code",
      "metadata": {
        "id": "9nTMFoikX5FY"
      },
      "source": [
        "a = (1,2,3,4,5,6,7,8,9,10)\n",
        "b = a[0:5] #starting index 0 upto index 5 but not including 5\n",
        "print(b)\n",
        "\n",
        "mytuple = \"max\",28,\"Boston\"\n",
        "\n",
        "name,age,city = mytuple #unpack\n",
        "print(name)\n",
        "print(age)\n",
        "print(city)\n",
        "\n",
        "mytuple = (0,1,2,3,4) #unpack\n",
        "i1,*i2,i3 = mytuple\n",
        "print(i1) #returns 1st item\n",
        "print(i3) #returns last item\n",
        "print(i2) #returns all items in between converted to a list\n",
        "\n"
      ],
      "execution_count": null,
      "outputs": []
    },
    {
      "cell_type": "markdown",
      "metadata": {
        "id": "XRtg24MFX6qR"
      },
      "source": [
        "## Performance consideration"
      ]
    },
    {
      "cell_type": "code",
      "metadata": {
        "id": "66-Wxyc7X8x4"
      },
      "source": [
        "import sys\n",
        "mylist = [0,1,2,\"hello\",True]\n",
        "mytuple = (0,1,2,\"hello\",True)\n",
        "print(sys.getsizeof(mylist),\"bytes\")\n",
        "print(sys.getsizeof(mytuple),\"bytes\") #takes less space to save same elements, python can optimize because it knows a typle is immutable\n",
        "\n",
        "\n",
        "import timeit\n",
        "print(timeit.timeit(stmt=\"[0,1,2,3,4,5]\", number=1000000)) #repeat a statement 1 million times, here creating a list a million time\n",
        "print(timeit.timeit(stmt=\"(0,1,2,3,4,5)\", number=1000000)) #repeat a statement 1 million times, here creating a tuple a million time\n",
        "#creating tuple is faster"
      ],
      "execution_count": null,
      "outputs": []
    },
    {
      "cell_type": "markdown",
      "metadata": {
        "id": "INzzFZKgYGUK"
      },
      "source": [
        "# Dictionary\n",
        "key-value pairs, unorderd, mutable, key cannot be duplicate"
      ]
    },
    {
      "cell_type": "markdown",
      "metadata": {
        "id": "qaAtWMCGYLrS"
      },
      "source": [
        "## Dictionary creation & selection"
      ]
    },
    {
      "cell_type": "code",
      "metadata": {
        "id": "0vTN2kGTYOLY",
        "colab": {
          "base_uri": "https://localhost:8080/"
        },
        "outputId": "91f0f0ad-ff22-4424-8ce8-54c9560882d4"
      },
      "source": [
        "myDictionary = {\"name\": \"Max\",\"age\":28,\"city\":\"New York\"}\n",
        "print(myDictionary)\n",
        "\n",
        "myDictionary = dict(name=\"Marry\",age=27,city=\"Boston\") #notice the slight change in syntax, keys are not in quotes\n",
        "print(myDictionary)\n",
        "\n",
        "value = myDictionary[\"name\"] #to retrieve value, when you know key\n",
        "print(value)\n",
        "\n"
      ],
      "execution_count": 10,
      "outputs": [
        {
          "output_type": "stream",
          "text": [
            "{'name': 'Max', 'age': 28, 'city': 'New York'}\n",
            "{'name': 'Marry', 'age': 27, 'city': 'Boston'}\n",
            "Marry\n"
          ],
          "name": "stdout"
        }
      ]
    },
    {
      "cell_type": "markdown",
      "metadata": {
        "id": "jE4Jt3ZQbn5Y"
      },
      "source": [
        "## Adding and removing elements"
      ]
    },
    {
      "cell_type": "code",
      "metadata": {
        "id": "Xc-cwdtPbr76"
      },
      "source": [
        "myDictionary[\"email\"] = \"max@xyz.com\" # to insert a new key-value in dictionary\n",
        "print(myDictionary)\n",
        "\n",
        "# del myDictionary[\"name\"]\n",
        "# print(myDictionary)\n",
        "\n",
        "# myDictionary.pop(\"age\")\n",
        "# print(myDictionary)\n",
        "\n",
        "#to check if a key exist in the dictionary\n",
        "if \"name\" in myDictionary:\n",
        "  print(myDictionary[\"name\"])\n",
        "\n",
        "try:\n",
        "  print(myDictionary[\"name\"])\n",
        "except:\n",
        "  print(\"Error\")\n",
        "\n",
        "\n",
        "\n"
      ],
      "execution_count": null,
      "outputs": []
    },
    {
      "cell_type": "markdown",
      "metadata": {
        "id": "3nEZdigYebZD"
      },
      "source": [
        "## Iterate and dictionary operations"
      ]
    },
    {
      "cell_type": "code",
      "metadata": {
        "id": "-IYqomnbeiZr"
      },
      "source": [
        "# to iterate over dictionary\n",
        "for key in myDictionary:\n",
        "  print(key)\n",
        "\n",
        "for key in myDictionary.keys():\n",
        "  print(key)\n",
        "\n",
        "for value in myDictionary.values():\n",
        "  print(value)\n",
        "\n",
        "for key,value in myDictionary.items():\n",
        "  print(key,value)\n",
        "\n",
        "# to copy a dictionary\n",
        "myDictionary_cpy = myDictionary #this method will make the copy and the original point to the same dictionary\n",
        "print(myDictionary_cpy)\n",
        "\n",
        "myDictionary_cpy = myDictionary.copy()\n",
        "\n",
        "myDictionary_cpy = dict(myDictionary)\n",
        "\n",
        "#merge two dictionaries\n",
        "myDictionary = {\"name\": \"Max\",\"age\":28,\"city\":\"New York\"}\n",
        "myDictionary_2 = {\"name\": \"Marry\",\"age\":27,\"email\":\"Marry@xyz.com\"}\n",
        "\n",
        "myDictionary.update(myDictionary_2) #update will overwrite all existing key-value pair in myDictionary, non-existing key-value pair will be added\n",
        "print(myDictionary)\n",
        "\n",
        "#keys in a dictionary can be any immutable type - string, number or a tuple\n",
        "myDictionary = {3:9,6:36,9:81}\n",
        "\n",
        "mytuple = (8,7)\n",
        "myDictionary = {mytuple:15}\n",
        "print(myDictionary)"
      ],
      "execution_count": null,
      "outputs": []
    },
    {
      "cell_type": "markdown",
      "metadata": {
        "id": "INXEARjtfzq4"
      },
      "source": [
        "# Sets\n",
        "unordered, mutable, no duplicates"
      ]
    },
    {
      "cell_type": "markdown",
      "metadata": {
        "id": "kicIMZwSf6dZ"
      },
      "source": [
        "## Test"
      ]
    },
    {
      "cell_type": "code",
      "metadata": {
        "colab": {
          "base_uri": "https://localhost:8080/"
        },
        "id": "rie2-gSef7o1",
        "outputId": "6b1f0a32-57bb-4d9c-d091-72bbb58ea35b"
      },
      "source": [
        "myset = {1,2,3}\n",
        "print(myset)\n",
        "\n",
        "myset = {1,2,3,2} \n",
        "print(myset) #two is printed only once because set doesnt allow duplicates"
      ],
      "execution_count": 19,
      "outputs": [
        {
          "output_type": "stream",
          "text": [
            "{1, 2, 3}\n",
            "{1, 2, 3}\n"
          ],
          "name": "stdout"
        }
      ]
    }
  ]
}