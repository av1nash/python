{
  "nbformat": 4,
  "nbformat_minor": 0,
  "metadata": {
    "colab": {
      "name": "PythonIntermediate.ipynb",
      "provenance": [],
      "collapsed_sections": [],
      "toc_visible": true,
      "authorship_tag": "ABX9TyPqYZTsnnWvW1vPyO9fF7zh"
    },
    "kernelspec": {
      "name": "python3",
      "display_name": "Python 3"
    },
    "language_info": {
      "name": "python"
    }
  },
  "cells": [
    {
      "cell_type": "code",
      "metadata": {
        "colab": {
          "base_uri": "https://localhost:8080/"
        },
        "id": "3DGFzx1lmkQI",
        "outputId": "c77de8b1-e47e-4892-df08-d8984f019e7f"
      },
      "source": [
        "def sum2(n):\n",
        "  sum_of_num = (n*(n+1))/2\n",
        "  return sum_of_num\n",
        "\n",
        "print(sum2(5))\n"
      ],
      "execution_count": null,
      "outputs": [
        {
          "output_type": "stream",
          "text": [
            "15.0\n"
          ],
          "name": "stdout"
        }
      ]
    },
    {
      "cell_type": "code",
      "metadata": {
        "colab": {
          "base_uri": "https://localhost:8080/"
        },
        "id": "8kfy13wPn9KD",
        "outputId": "e7172739-dab0-424c-8738-9a073d26ee31"
      },
      "source": [
        "%timeit sum2(100)"
      ],
      "execution_count": null,
      "outputs": [
        {
          "output_type": "stream",
          "text": [
            "The slowest run took 15.90 times longer than the fastest. This could mean that an intermediate result is being cached.\n",
            "10000000 loops, best of 5: 172 ns per loop\n"
          ],
          "name": "stdout"
        }
      ]
    },
    {
      "cell_type": "markdown",
      "metadata": {
        "id": "zEmUT4r0MGm7"
      },
      "source": [
        "# Lists\n",
        "ordered, mutable, allows duplicate elements"
      ]
    },
    {
      "cell_type": "markdown",
      "metadata": {
        "id": "KLV81I5NRrBG"
      },
      "source": [
        "## List selection"
      ]
    },
    {
      "cell_type": "code",
      "metadata": {
        "id": "sM-LX3g0MKC3"
      },
      "source": [
        "myList = [1,2,3,4,5,6,7,8,9]\n",
        "a = myList[1:5] #index 1 to 5 excluding 5\n",
        "print(a)\n",
        "\n",
        "a = myList[:5] #when start index is not specified it starts with index 0\n",
        "print(a)\n",
        "\n",
        "a = myList[1:] #when end index is not specified it goes till last index\n",
        "print(a)\n",
        "\n",
        "a = myList[1::2] #start from index 1 and select every second item (this is called step index)\n",
        "print(a)\n",
        "\n",
        "a=myList[::-1] # reverses the list\n",
        "print(a)\n"
      ],
      "execution_count": null,
      "outputs": []
    },
    {
      "cell_type": "markdown",
      "metadata": {
        "id": "fVi0jdpMR9k2"
      },
      "source": [
        "## Copying List"
      ]
    },
    {
      "cell_type": "code",
      "metadata": {
        "id": "y88fXl-ASAE-"
      },
      "source": [
        "#copying a list\n",
        "list_org = [\"banana\",\"cherry\",\"apple\"]\n",
        "list_cpy = list_org\n",
        "print([list_cpy])\n",
        " \n",
        "list_cpy[2] = \"strawberry\"\n",
        "print([list_org]) #list_cpy & list_org are pointing to the same list, which is why list_org is also modified when list_cpy is modified\n",
        "\n",
        "list_true_cpy = list_org.copy() #copy method copies the content of the list to the new list\n",
        "list_true_cpy = list(list_org) #list function also creates copy of the list passed as parameter\n",
        "list_true_cpy = list_org[:] #slicing also creates copy of the list\n",
        "print(list_true_cpy)\n",
        "\n"
      ],
      "execution_count": null,
      "outputs": []
    },
    {
      "cell_type": "markdown",
      "metadata": {
        "id": "ZwBBjAQUSBtS"
      },
      "source": [
        "## List comprehension"
      ]
    },
    {
      "cell_type": "code",
      "metadata": {
        "id": "OfTAScuSSEXQ"
      },
      "source": [
        "myList = [1,2,3,4,5,6]\n",
        "b = [i*i for i in myList] # syntax = [expression for variable in List]\n",
        "print(myList)\n",
        "print(b)"
      ],
      "execution_count": null,
      "outputs": []
    },
    {
      "cell_type": "markdown",
      "metadata": {
        "id": "SKO4vvZGSHdN"
      },
      "source": [
        "# Tuple\n",
        "ordered, immutable, allows duplicate elements"
      ]
    },
    {
      "cell_type": "markdown",
      "metadata": {
        "id": "J2tIBe5aSY54"
      },
      "source": [
        "## Tuple creation & selection"
      ]
    },
    {
      "cell_type": "code",
      "metadata": {
        "id": "5V-g_sCwSa5G"
      },
      "source": [
        "mytuple = (\"max\",28,\"Boston\")\n",
        "print(mytuple)\n",
        "\n",
        "mytuple = \"max\",28,\"Boston\" #without paranthese, still a tuple\n",
        "print(type(mytuple))\n",
        "\n",
        "mytuple = (\"max\") #with just one element, this will not get recognized as tuple but a string, if it was a number, it would be recognized as int or float\n",
        "print(type(mytuple))\n",
        "\n",
        "mytuple = (\"max\",) #end with a comma to get it identified as tuple\n",
        "print(type(mytuple))\n",
        "\n",
        "mytuple = tuple([\"max\",28,\"Boston\"]) #built in tuple function, if no argument is specified it creates an empty tuple. If an argument is specified it initializes tuple with the values inside that iterable.\n",
        "print(mytuple)\n",
        "\n",
        "item = mytuple[1]\n",
        "print(item)\n",
        "\n",
        "item = mytuple[-1] # refers last item\n",
        "print(item)\n",
        "\n",
        "\n",
        "#mytuple[0] = \"true\" \n",
        "# not possible because tuple is immutable\n",
        "\n"
      ],
      "execution_count": null,
      "outputs": []
    },
    {
      "cell_type": "markdown",
      "metadata": {
        "id": "NyWCEIAtXgsq"
      },
      "source": [
        "## Iterating over tuple & tuple functions"
      ]
    },
    {
      "cell_type": "code",
      "metadata": {
        "id": "8GBfTEJPXkEZ"
      },
      "source": [
        "for i in mytuple:\n",
        "  print(i)\n",
        "\n",
        "\n",
        "if \"max\" in mytuple: #to check if something is inside tuple\n",
        "  print(\"yes\")\n",
        "else:\n",
        "  print(\"no\")\n",
        "\n",
        "mytuple = ['a','p','p','l','e']\n",
        "\n",
        "print(len(mytuple)) #get length of tuple\n",
        " \n",
        "print(mytuple.count('p'))#count number of occurence\n",
        "\n",
        "print(mytuple.index('p')) # returns index of first occurence of the element in tuple\n"
      ],
      "execution_count": null,
      "outputs": []
    },
    {
      "cell_type": "markdown",
      "metadata": {
        "id": "XRax-2iqXwIF"
      },
      "source": [
        "## Converting Tuple"
      ]
    },
    {
      "cell_type": "code",
      "metadata": {
        "id": "V_0vkvEtXzs5"
      },
      "source": [
        "\n",
        "my_list = list(mytuple) #converting tuple to list and vice versa\n",
        "mytuple2 = tuple(my_list)\n",
        "\n"
      ],
      "execution_count": null,
      "outputs": []
    },
    {
      "cell_type": "markdown",
      "metadata": {
        "id": "rqC6WzzrX26N"
      },
      "source": [
        "## Slicing & unpacking"
      ]
    },
    {
      "cell_type": "code",
      "metadata": {
        "id": "9nTMFoikX5FY"
      },
      "source": [
        "a = (1,2,3,4,5,6,7,8,9,10)\n",
        "b = a[0:5] #starting index 0 upto index 5 but not including 5\n",
        "print(b)\n",
        "\n",
        "mytuple = \"max\",28,\"Boston\"\n",
        "\n",
        "name,age,city = mytuple #unpack\n",
        "print(name)\n",
        "print(age)\n",
        "print(city)\n",
        "\n",
        "mytuple = (0,1,2,3,4) #unpack\n",
        "i1,*i2,i3 = mytuple\n",
        "print(i1) #returns 1st item\n",
        "print(i3) #returns last item\n",
        "print(i2) #returns all items in between converted to a list\n",
        "\n"
      ],
      "execution_count": null,
      "outputs": []
    },
    {
      "cell_type": "markdown",
      "metadata": {
        "id": "XRtg24MFX6qR"
      },
      "source": [
        "## Performance consideration"
      ]
    },
    {
      "cell_type": "code",
      "metadata": {
        "id": "66-Wxyc7X8x4"
      },
      "source": [
        "import sys\n",
        "mylist = [0,1,2,\"hello\",True]\n",
        "mytuple = (0,1,2,\"hello\",True)\n",
        "print(sys.getsizeof(mylist),\"bytes\")\n",
        "print(sys.getsizeof(mytuple),\"bytes\") #takes less space to save same elements, python can optimize because it knows a typle is immutable\n",
        "\n",
        "\n",
        "import timeit\n",
        "print(timeit.timeit(stmt=\"[0,1,2,3,4,5]\", number=1000000)) #repeat a statement 1 million times, here creating a list a million time\n",
        "print(timeit.timeit(stmt=\"(0,1,2,3,4,5)\", number=1000000)) #repeat a statement 1 million times, here creating a tuple a million time\n",
        "#creating tuple is faster"
      ],
      "execution_count": null,
      "outputs": []
    },
    {
      "cell_type": "markdown",
      "metadata": {
        "id": "INzzFZKgYGUK"
      },
      "source": [
        "# Dictionary\n",
        "key-value pairs, unorderd, mutable"
      ]
    },
    {
      "cell_type": "markdown",
      "metadata": {
        "id": "qaAtWMCGYLrS"
      },
      "source": [
        "## Test"
      ]
    },
    {
      "cell_type": "code",
      "metadata": {
        "id": "0vTN2kGTYOLY"
      },
      "source": [
        ""
      ],
      "execution_count": null,
      "outputs": []
    }
  ]
}