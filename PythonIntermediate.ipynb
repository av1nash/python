{
  "nbformat": 4,
  "nbformat_minor": 0,
  "metadata": {
    "colab": {
      "name": "PythonIntermediate.ipynb",
      "provenance": [],
      "collapsed_sections": [],
      "toc_visible": true,
      "authorship_tag": "ABX9TyPqELMW/3/QNTKSdfd8pu4N"
    },
    "kernelspec": {
      "name": "python3",
      "display_name": "Python 3"
    },
    "language_info": {
      "name": "python"
    }
  },
  "cells": [
    {
      "cell_type": "code",
      "metadata": {
        "colab": {
          "base_uri": "https://localhost:8080/"
        },
        "id": "3DGFzx1lmkQI",
        "outputId": "c77de8b1-e47e-4892-df08-d8984f019e7f"
      },
      "source": [
        "def sum2(n):\n",
        "  sum_of_num = (n*(n+1))/2\n",
        "  return sum_of_num\n",
        "\n",
        "print(sum2(5))\n"
      ],
      "execution_count": null,
      "outputs": [
        {
          "output_type": "stream",
          "text": [
            "15.0\n"
          ],
          "name": "stdout"
        }
      ]
    },
    {
      "cell_type": "code",
      "metadata": {
        "colab": {
          "base_uri": "https://localhost:8080/"
        },
        "id": "8kfy13wPn9KD",
        "outputId": "e7172739-dab0-424c-8738-9a073d26ee31"
      },
      "source": [
        "%timeit sum2(100)"
      ],
      "execution_count": null,
      "outputs": [
        {
          "output_type": "stream",
          "text": [
            "The slowest run took 15.90 times longer than the fastest. This could mean that an intermediate result is being cached.\n",
            "10000000 loops, best of 5: 172 ns per loop\n"
          ],
          "name": "stdout"
        }
      ]
    },
    {
      "cell_type": "markdown",
      "metadata": {
        "id": "tWhH-hnm9Tb-"
      },
      "source": [
        "My notes from following this course - https://www.youtube.com/watch?v=HGOBQPFzWKo&list=PLmRagU2RjpNL9DAgwyIfJbt3L3b2vdCCY&index=1&t=969s\n"
      ]
    },
    {
      "cell_type": "markdown",
      "metadata": {
        "id": "zEmUT4r0MGm7"
      },
      "source": [
        "# Lists\n",
        "ordered, mutable, allows duplicate elements"
      ]
    },
    {
      "cell_type": "markdown",
      "metadata": {
        "id": "KLV81I5NRrBG"
      },
      "source": [
        "## List selection"
      ]
    },
    {
      "cell_type": "code",
      "metadata": {
        "id": "sM-LX3g0MKC3"
      },
      "source": [
        "myList = [1,2,3,4,5,6,7,8,9]\n",
        "a = myList[1:5] #index 1 to 5 excluding 5\n",
        "print(a)\n",
        "\n",
        "a = myList[:5] #when start index is not specified it starts with index 0\n",
        "print(a)\n",
        "\n",
        "a = myList[1:] #when end index is not specified it goes till last index\n",
        "print(a)\n",
        "\n",
        "a = myList[1::2] #start from index 1 and select every second item (this is called step index)\n",
        "print(a)\n",
        "\n",
        "a=myList[::-1] # reverses the list\n",
        "print(a)\n"
      ],
      "execution_count": null,
      "outputs": []
    },
    {
      "cell_type": "markdown",
      "metadata": {
        "id": "fVi0jdpMR9k2"
      },
      "source": [
        "## Copying List"
      ]
    },
    {
      "cell_type": "code",
      "metadata": {
        "id": "y88fXl-ASAE-"
      },
      "source": [
        "#copying a list\n",
        "list_org = [\"banana\",\"cherry\",\"apple\"]\n",
        "list_cpy = list_org\n",
        "print([list_cpy])\n",
        " \n",
        "list_cpy[2] = \"strawberry\"\n",
        "print([list_org]) #list_cpy & list_org are pointing to the same list, which is why list_org is also modified when list_cpy is modified\n",
        "\n",
        "list_true_cpy = list_org.copy() #copy method copies the content of the list to the new list\n",
        "list_true_cpy = list(list_org) #list function also creates copy of the list passed as parameter\n",
        "list_true_cpy = list_org[:] #slicing also creates copy of the list\n",
        "print(list_true_cpy)\n",
        "\n"
      ],
      "execution_count": null,
      "outputs": []
    },
    {
      "cell_type": "markdown",
      "metadata": {
        "id": "ZwBBjAQUSBtS"
      },
      "source": [
        "## List comprehension"
      ]
    },
    {
      "cell_type": "code",
      "metadata": {
        "id": "OfTAScuSSEXQ"
      },
      "source": [
        "myList = [1,2,3,4,5,6]\n",
        "b = [i*i for i in myList] # syntax = [expression for variable in List]\n",
        "print(myList)\n",
        "print(b)"
      ],
      "execution_count": null,
      "outputs": []
    },
    {
      "cell_type": "markdown",
      "metadata": {
        "id": "SKO4vvZGSHdN"
      },
      "source": [
        "# Tuple\n",
        "ordered, immutable, allows duplicate elements"
      ]
    },
    {
      "cell_type": "markdown",
      "metadata": {
        "id": "J2tIBe5aSY54"
      },
      "source": [
        "## Tuple creation & selection"
      ]
    },
    {
      "cell_type": "code",
      "metadata": {
        "id": "5V-g_sCwSa5G"
      },
      "source": [
        "mytuple = (\"max\",28,\"Boston\")\n",
        "print(mytuple)\n",
        "\n",
        "mytuple = \"max\",28,\"Boston\" #without paranthese, still a tuple\n",
        "print(type(mytuple))\n",
        "\n",
        "mytuple = (\"max\") #with just one element, this will not get recognized as tuple but a string, if it was a number, it would be recognized as int or float\n",
        "print(type(mytuple))\n",
        "\n",
        "mytuple = (\"max\",) #end with a comma to get it identified as tuple\n",
        "print(type(mytuple))\n",
        "\n",
        "mytuple = tuple([\"max\",28,\"Boston\"]) #built in tuple function, if no argument is specified it creates an empty tuple. If an argument is specified it initializes tuple with the values inside that iterable.\n",
        "print(mytuple)\n",
        "\n",
        "item = mytuple[1]\n",
        "print(item)\n",
        "\n",
        "item = mytuple[-1] # refers last item\n",
        "print(item)\n",
        "\n",
        "\n",
        "#mytuple[0] = \"true\" \n",
        "# not possible because tuple is immutable\n",
        "\n"
      ],
      "execution_count": null,
      "outputs": []
    },
    {
      "cell_type": "markdown",
      "metadata": {
        "id": "NyWCEIAtXgsq"
      },
      "source": [
        "## Iterating over tuple & tuple functions"
      ]
    },
    {
      "cell_type": "code",
      "metadata": {
        "id": "8GBfTEJPXkEZ"
      },
      "source": [
        "for i in mytuple:\n",
        "  print(i)\n",
        "\n",
        "\n",
        "if \"max\" in mytuple: #to check if something is inside tuple\n",
        "  print(\"yes\")\n",
        "else:\n",
        "  print(\"no\")\n",
        "\n",
        "mytuple = ['a','p','p','l','e']\n",
        "\n",
        "print(len(mytuple)) #get length of tuple\n",
        " \n",
        "print(mytuple.count('p'))#count number of occurence\n",
        "\n",
        "print(mytuple.index('p')) # returns index of first occurence of the element in tuple\n"
      ],
      "execution_count": null,
      "outputs": []
    },
    {
      "cell_type": "markdown",
      "metadata": {
        "id": "XRax-2iqXwIF"
      },
      "source": [
        "## Converting Tuple"
      ]
    },
    {
      "cell_type": "code",
      "metadata": {
        "id": "V_0vkvEtXzs5"
      },
      "source": [
        "\n",
        "my_list = list(mytuple) #converting tuple to list and vice versa\n",
        "mytuple2 = tuple(my_list)\n",
        "\n"
      ],
      "execution_count": null,
      "outputs": []
    },
    {
      "cell_type": "markdown",
      "metadata": {
        "id": "rqC6WzzrX26N"
      },
      "source": [
        "## Slicing & unpacking"
      ]
    },
    {
      "cell_type": "code",
      "metadata": {
        "id": "9nTMFoikX5FY"
      },
      "source": [
        "a = (1,2,3,4,5,6,7,8,9,10)\n",
        "b = a[0:5] #starting index 0 upto index 5 but not including 5\n",
        "print(b)\n",
        "\n",
        "mytuple = \"max\",28,\"Boston\"\n",
        "\n",
        "name,age,city = mytuple #unpack\n",
        "print(name)\n",
        "print(age)\n",
        "print(city)\n",
        "\n",
        "mytuple = (0,1,2,3,4) #unpack\n",
        "i1,*i2,i3 = mytuple\n",
        "print(i1) #returns 1st item\n",
        "print(i3) #returns last item\n",
        "print(i2) #returns all items in between converted to a list\n",
        "\n"
      ],
      "execution_count": null,
      "outputs": []
    },
    {
      "cell_type": "markdown",
      "metadata": {
        "id": "XRtg24MFX6qR"
      },
      "source": [
        "## Performance consideration"
      ]
    },
    {
      "cell_type": "code",
      "metadata": {
        "id": "66-Wxyc7X8x4"
      },
      "source": [
        "import sys\n",
        "mylist = [0,1,2,\"hello\",True]\n",
        "mytuple = (0,1,2,\"hello\",True)\n",
        "print(sys.getsizeof(mylist),\"bytes\")\n",
        "print(sys.getsizeof(mytuple),\"bytes\") #takes less space to save same elements, python can optimize because it knows a typle is immutable\n",
        "\n",
        "\n",
        "import timeit\n",
        "print(timeit.timeit(stmt=\"[0,1,2,3,4,5]\", number=1000000)) #repeat a statement 1 million times, here creating a list a million time\n",
        "print(timeit.timeit(stmt=\"(0,1,2,3,4,5)\", number=1000000)) #repeat a statement 1 million times, here creating a tuple a million time\n",
        "#creating tuple is faster"
      ],
      "execution_count": null,
      "outputs": []
    },
    {
      "cell_type": "markdown",
      "metadata": {
        "id": "INzzFZKgYGUK"
      },
      "source": [
        "# Dictionary\n",
        "key-value pairs, unorderd, mutable, key cannot be duplicate"
      ]
    },
    {
      "cell_type": "markdown",
      "metadata": {
        "id": "qaAtWMCGYLrS"
      },
      "source": [
        "## Dictionary creation & selection"
      ]
    },
    {
      "cell_type": "code",
      "metadata": {
        "id": "0vTN2kGTYOLY",
        "colab": {
          "base_uri": "https://localhost:8080/"
        },
        "outputId": "91f0f0ad-ff22-4424-8ce8-54c9560882d4"
      },
      "source": [
        "myDictionary = {\"name\": \"Max\",\"age\":28,\"city\":\"New York\"}\n",
        "print(myDictionary)\n",
        "\n",
        "myDictionary = dict(name=\"Marry\",age=27,city=\"Boston\") #notice the slight change in syntax, keys are not in quotes\n",
        "print(myDictionary)\n",
        "\n",
        "value = myDictionary[\"name\"] #to retrieve value, when you know key\n",
        "print(value)\n",
        "\n"
      ],
      "execution_count": null,
      "outputs": [
        {
          "output_type": "stream",
          "text": [
            "{'name': 'Max', 'age': 28, 'city': 'New York'}\n",
            "{'name': 'Marry', 'age': 27, 'city': 'Boston'}\n",
            "Marry\n"
          ],
          "name": "stdout"
        }
      ]
    },
    {
      "cell_type": "markdown",
      "metadata": {
        "id": "jE4Jt3ZQbn5Y"
      },
      "source": [
        "## Adding and removing elements"
      ]
    },
    {
      "cell_type": "code",
      "metadata": {
        "id": "Xc-cwdtPbr76"
      },
      "source": [
        "myDictionary[\"email\"] = \"max@xyz.com\" # to insert a new key-value in dictionary\n",
        "print(myDictionary)\n",
        "\n",
        "# del myDictionary[\"name\"]\n",
        "# print(myDictionary)\n",
        "\n",
        "# myDictionary.pop(\"age\")\n",
        "# print(myDictionary)\n",
        "\n",
        "#to check if a key exist in the dictionary\n",
        "if \"name\" in myDictionary:\n",
        "  print(myDictionary[\"name\"])\n",
        "\n",
        "try:\n",
        "  print(myDictionary[\"name\"])\n",
        "except:\n",
        "  print(\"Error\")\n",
        "\n",
        "\n",
        "\n"
      ],
      "execution_count": null,
      "outputs": []
    },
    {
      "cell_type": "markdown",
      "metadata": {
        "id": "3nEZdigYebZD"
      },
      "source": [
        "## Iterate and dictionary operations"
      ]
    },
    {
      "cell_type": "code",
      "metadata": {
        "id": "-IYqomnbeiZr"
      },
      "source": [
        "# to iterate over dictionary\n",
        "for key in myDictionary:\n",
        "  print(key)\n",
        "\n",
        "for key in myDictionary.keys():\n",
        "  print(key)\n",
        "\n",
        "for value in myDictionary.values():\n",
        "  print(value)\n",
        "\n",
        "for key,value in myDictionary.items():\n",
        "  print(key,value)\n",
        "\n",
        "# to copy a dictionary\n",
        "myDictionary_cpy = myDictionary #this method will make the copy and the original point to the same dictionary\n",
        "print(myDictionary_cpy)\n",
        "\n",
        "myDictionary_cpy = myDictionary.copy()\n",
        "\n",
        "myDictionary_cpy = dict(myDictionary)\n",
        "\n",
        "#merge two dictionaries\n",
        "myDictionary = {\"name\": \"Max\",\"age\":28,\"city\":\"New York\"}\n",
        "myDictionary_2 = {\"name\": \"Marry\",\"age\":27,\"email\":\"Marry@xyz.com\"}\n",
        "\n",
        "myDictionary.update(myDictionary_2) #update will overwrite all existing key-value pair in myDictionary, non-existing key-value pair will be added\n",
        "print(myDictionary)\n",
        "\n",
        "#keys in a dictionary can be any immutable type - string, number or a tuple\n",
        "myDictionary = {3:9,6:36,9:81}\n",
        "\n",
        "mytuple = (8,7)\n",
        "myDictionary = {mytuple:15}\n",
        "print(myDictionary)"
      ],
      "execution_count": null,
      "outputs": []
    },
    {
      "cell_type": "markdown",
      "metadata": {
        "id": "INXEARjtfzq4"
      },
      "source": [
        "# Sets\n",
        "unordered, mutable, no duplicates"
      ]
    },
    {
      "cell_type": "markdown",
      "metadata": {
        "id": "kicIMZwSf6dZ"
      },
      "source": [
        "## Set creation and selection"
      ]
    },
    {
      "cell_type": "code",
      "metadata": {
        "id": "rie2-gSef7o1"
      },
      "source": [
        "myset = {1,2,3}\n",
        "print(myset)\n",
        "\n",
        "myset = {1,2,3,2} \n",
        "print(myset) #two is printed only once because set doesnt allow duplicates\n",
        "\n",
        "myset = set([1,2,3])\n",
        "print(myset)\n",
        "\n",
        "myset = set(\"Hello\")\n",
        "print(myset) # only one L is printed because set doesn't allow duplicate, nice trick to find unique letters in a string\n",
        "\n",
        "myset.add(1) #set is mutable, so you can add an element\n",
        "print(myset)\n",
        "\n",
        "myset.remove(\"H\")\n",
        "print(myset)\n",
        "\n",
        "myset.discard(\"k\")\n",
        "print(myset) #remove will result in error if the element is not found in set, discard will throw no error\n",
        "\n",
        "#myset.clear() #will delete everything from the set\n",
        "\n",
        "print(myset.pop()) #returns an arbitary value and also removed it from the set\n",
        "\n",
        "\n"
      ],
      "execution_count": null,
      "outputs": []
    },
    {
      "cell_type": "markdown",
      "metadata": {
        "id": "fy3ahHSNy2-u"
      },
      "source": [
        "## Iterating over set"
      ]
    },
    {
      "cell_type": "code",
      "metadata": {
        "id": "m5BW5wLBy7b-"
      },
      "source": [
        "for i in myset:\n",
        "  print(i)\n",
        "\n",
        "if 1 in myset:\n",
        "  print(\"yes\")\n",
        "else:\n",
        "  print(\"no\")\n"
      ],
      "execution_count": null,
      "outputs": []
    },
    {
      "cell_type": "markdown",
      "metadata": {
        "id": "mL_bY4D0y81w"
      },
      "source": [
        "## Union, Intersection, Difference operation"
      ]
    },
    {
      "cell_type": "code",
      "metadata": {
        "id": "p_1vBB4Ky_hI"
      },
      "source": [
        "odds = {1,3,5,7,9}\n",
        "evens = {0,2,4,6,8}\n",
        "primes = {2,3,5,7}\n",
        "\n",
        "# union combines elements of two sets without duplication\n",
        "u = odds.union(evens)\n",
        "print(u)\n",
        "\n",
        "i = odds.intersection(evens)\n",
        "print(i) #return empty set, since there is no common element between ods and evens set\n",
        "\n",
        "i1 = odds.intersection(primes)\n",
        "print(i1)\n",
        "\n",
        "setA = {1,2,3,4,5,6,7,8,9}\n",
        "setB = {1,2,3,10,11,12}\n",
        "\n",
        "# Difference will return all elements from first set that are not in second set\n",
        "diff = setA.difference(setB)\n",
        "print(diff)\n",
        "\n",
        "sym_diff = setA.symmetric_difference(setB)\n",
        "print(sym_diff) #returns elemts from both the sets, excluding those elements which are in both the sets\n",
        "\n",
        "setA.update(setB) #updates setA in place by adding all the elements of SetB, without duplication\n",
        "print(setA) \n",
        "\n",
        "setA = {1,2,3,4,5,6,7,8,9}\n",
        "setB = {1,2,3,10,11,12}\n",
        "\n",
        "setA.intersection_update(setB) #updates setA in place by only keeping elements that are in both the sets\n",
        "print(setA)\n",
        "\n",
        "setA = {1,2,3,4,5,6,7,8,9}\n",
        "setB = {1,2,3,10,11,12}\n",
        "\n",
        "setA.difference_update(setB) #updates setA in place by removing elements which are found in setB\n",
        "print(setA)\n"
      ],
      "execution_count": null,
      "outputs": []
    },
    {
      "cell_type": "markdown",
      "metadata": {
        "id": "jGqB_tI01U78"
      },
      "source": [
        "## subset, superset, disjoint"
      ]
    },
    {
      "cell_type": "code",
      "metadata": {
        "id": "d3mJ92G11Yei"
      },
      "source": [
        "setA = {1,2,3,4,5,6}\n",
        "setB = {1,2,3}\n",
        "\n",
        "print(setA.issubset(setB))\n",
        "print(setA.issuperset(setB))\n",
        "print(setA.isdisjoint(setB)) #False because disjoint checks if no elements are common in both the sets\n",
        "\n",
        "setC={7,8,9}\n",
        "print(setA.isdisjoint(setC))\n"
      ],
      "execution_count": null,
      "outputs": []
    },
    {
      "cell_type": "markdown",
      "metadata": {
        "id": "nO3SkpQK1-kc"
      },
      "source": [
        "## copy"
      ]
    },
    {
      "cell_type": "code",
      "metadata": {
        "colab": {
          "base_uri": "https://localhost:8080/"
        },
        "id": "YgJIseWG2CsL",
        "outputId": "5f2620ce-ff5f-427a-ae99-6cd570b9df7e"
      },
      "source": [
        "setA = {1,2,3,4,5,6}\n",
        "setB = {1,2,3}\n",
        "\n",
        "setB=setA.copy()\n",
        "print(setB)\n",
        "\n",
        "setA = {1,2,3,4,5,6}\n",
        "setB = {1,2,3}\n",
        "\n",
        "setB=set(setA) \n",
        "\n",
        "a = frozenset([1,2,3,4]) #makes the set immutable\n",
        "print(a)\n",
        "\n",
        "#a.add(2) #will result in error\n"
      ],
      "execution_count": 28,
      "outputs": [
        {
          "output_type": "stream",
          "text": [
            "{1, 2, 3, 4, 5, 6}\n",
            "frozenset({1, 2, 3, 4})\n"
          ],
          "name": "stdout"
        }
      ]
    },
    {
      "cell_type": "markdown",
      "metadata": {
        "id": "vNiRRECE2h6N"
      },
      "source": [
        "# Strings\n",
        "ordered, immutable, text representation"
      ]
    },
    {
      "cell_type": "code",
      "metadata": {
        "id": "6Jc6Vfbv2oiv"
      },
      "source": [
        "my_string = \"Hello World\"\n",
        "print(my_string)\n",
        "\n",
        "char = my_string[0]\n",
        "print(char)\n",
        "\n",
        "#my_string[0] = 'h' #will not work, since string is immutable\n",
        "\n",
        "substring = my_string[1:5]\n",
        "print(my_string)\n",
        "\n",
        "for i in my_string:\n",
        "  print(i)\n",
        "\n",
        "if 'e' in my_string:\n",
        "  print(\"yes\")\n",
        "else:\n",
        "  print(\"no\")\n",
        "\n",
        "my_string = \"     hello world     \"\n",
        "my_string = my_string.strip() #removes whitespaces\n",
        "print(my_string)\n",
        "\n"
      ],
      "execution_count": null,
      "outputs": []
    },
    {
      "cell_type": "markdown",
      "metadata": {
        "id": "9DXPOBTifZ87"
      },
      "source": [
        "## String formatting\n",
        "%, .format(), f-Strings"
      ]
    },
    {
      "cell_type": "code",
      "metadata": {
        "id": "Ps1_BHw9Tgh8"
      },
      "source": [
        "var = \"Tom\"\n",
        "my_string = \"the variable is %s\" %var\n",
        "print(my_string)\n",
        "\n",
        "#%d - integer\n",
        "#%f - floating point\n",
        "#%.2f - only two decimal places\n",
        "\n",
        "var = 3.1234567\n",
        "my_string = \"the variable is %.2f\" %var\n",
        "print(my_string)\n",
        "\n",
        "my_string = \"the variable is {}\".format(var)\n",
        "print(my_string)\n",
        "\n",
        "\n",
        "my_string = \"the variable is {:.2f}\".format(var)\n",
        "print(my_string)\n",
        "\n",
        "var1 = \"pi\"\n",
        "my_string = \"the value of {} is {}\".format(var1,var)\n",
        "print(my_string)\n",
        "\n",
        "my_string = f\"the value of {var1} is {var}\"\n",
        "print(my_string)"
      ],
      "execution_count": null,
      "outputs": []
    },
    {
      "cell_type": "markdown",
      "metadata": {
        "id": "uhwtbDWogure"
      },
      "source": [
        "# Collections\n",
        "Counter, namedtuple, OrderedDict, defaultdict, deque"
      ]
    },
    {
      "cell_type": "markdown",
      "metadata": {
        "id": "9YmqDhJ9iDtH"
      },
      "source": [
        "## Counter"
      ]
    },
    {
      "cell_type": "code",
      "metadata": {
        "colab": {
          "base_uri": "https://localhost:8080/"
        },
        "id": "LuS_EI-8gzYe",
        "outputId": "b2a5b1b2-3777-4486-9664-71931f5299e5"
      },
      "source": [
        "from collections import Counter\n",
        "a = \"aaaaabbbbccccc\"\n",
        "my_counter = Counter(a)\n",
        "print(my_counter)\n",
        "print(my_counter.keys())\n",
        "print(my_counter.values())\n",
        "\n",
        "print(my_counter.most_common(2)) #return first two most common elements\n",
        "print(my_counter.most_common(1)[0][0])\n",
        "\n",
        "print(list(my_counter.elements())) #returns all the elements as list"
      ],
      "execution_count": 14,
      "outputs": [
        {
          "output_type": "stream",
          "text": [
            "Counter({'a': 5, 'c': 5, 'b': 4})\n",
            "dict_keys(['a', 'b', 'c'])\n",
            "dict_values([5, 4, 5])\n",
            "[('a', 5), ('c', 5)]\n",
            "a\n",
            "['a', 'a', 'a', 'a', 'a', 'b', 'b', 'b', 'b', 'c', 'c', 'c', 'c', 'c']\n"
          ],
          "name": "stdout"
        }
      ]
    },
    {
      "cell_type": "markdown",
      "metadata": {
        "id": "TSrTDh81iGCt"
      },
      "source": [
        "## namedtuple"
      ]
    },
    {
      "cell_type": "code",
      "metadata": {
        "colab": {
          "base_uri": "https://localhost:8080/"
        },
        "id": "vX0oHXVAiJQg",
        "outputId": "25ddda4d-21c8-44dd-d80f-614d2ba3b3e4"
      },
      "source": [
        "from collections import namedtuple\n",
        "Point = namedtuple('Point','x,y')\n",
        "pt = Point(1,-4)\n",
        "print(pt)\n",
        "print(pt.x,pt.y)"
      ],
      "execution_count": 16,
      "outputs": [
        {
          "output_type": "stream",
          "text": [
            "Point(x=1, y=-4)\n",
            "1 -4\n"
          ],
          "name": "stdout"
        }
      ]
    },
    {
      "cell_type": "markdown",
      "metadata": {
        "id": "YnJKaD1tid3j"
      },
      "source": [
        "## OrderedDict"
      ]
    },
    {
      "cell_type": "code",
      "metadata": {
        "colab": {
          "base_uri": "https://localhost:8080/"
        },
        "id": "Vb7q5MJyifiv",
        "outputId": "3693bae5-bdea-4a18-8f83-85b99d322b22"
      },
      "source": [
        "from collections import OrderedDict\n",
        "ordered_dict = OrderedDict()\n",
        "ordered_dict['a'] = 1\n",
        "ordered_dict['b'] = 2\n",
        "ordered_dict['c'] = 3\n",
        "ordered_dict['d'] = 4\n",
        "ordered_dict['e'] = 5\n",
        "\n",
        "print(ordered_dict)\n",
        "\n",
        "#rememebers the order in which elements were inserted. Since python 3.6 this is also available as a feature in normal dictionary"
      ],
      "execution_count": 17,
      "outputs": [
        {
          "output_type": "stream",
          "text": [
            "OrderedDict([('a', 1), ('b', 2), ('c', 3), ('d', 4), ('e', 5)])\n"
          ],
          "name": "stdout"
        }
      ]
    },
    {
      "cell_type": "markdown",
      "metadata": {
        "id": "Rt4WPSwpi--z"
      },
      "source": [
        "## defaultdict"
      ]
    },
    {
      "cell_type": "code",
      "metadata": {
        "colab": {
          "base_uri": "https://localhost:8080/"
        },
        "id": "Wm2cquSNjDQc",
        "outputId": "e3974bab-5096-4cfa-ccef-1c4d1b69ff59"
      },
      "source": [
        "from collections import defaultdict\n",
        "d = defaultdict(int)\n",
        "d['a'] = 1\n",
        "d['b'] = 2\n",
        "\n",
        "print(d['a']) \n",
        "print(d['c']) #returns default integer value of 0\n"
      ],
      "execution_count": 19,
      "outputs": [
        {
          "output_type": "stream",
          "text": [
            "1\n",
            "0\n"
          ],
          "name": "stdout"
        }
      ]
    },
    {
      "cell_type": "markdown",
      "metadata": {
        "id": "5E7MiHJtjWtX"
      },
      "source": [
        "## deque"
      ]
    },
    {
      "cell_type": "code",
      "metadata": {
        "colab": {
          "base_uri": "https://localhost:8080/"
        },
        "id": "wp2iJ_2AjYpv",
        "outputId": "35f9c885-3a26-49dc-f5cd-ba6402abfee8"
      },
      "source": [
        "from collections import deque\n",
        "d = deque()\n",
        "d.append(1)\n",
        "d.append(2)\n",
        "d.appendleft(3)\n",
        "d.pop()\n",
        "d.popleft()\n",
        "d.clear()\n",
        "d.extend([4,5,6])\n",
        "d.extendleft([1,2,3])\n",
        "d.rotate()\n",
        "print(d)"
      ],
      "execution_count": 27,
      "outputs": [
        {
          "output_type": "stream",
          "text": [
            "deque([6, 3, 2, 1, 4, 5])\n"
          ],
          "name": "stdout"
        }
      ]
    },
    {
      "cell_type": "markdown",
      "metadata": {
        "id": "7gnGtPgMmDYm"
      },
      "source": [
        "# itertools"
      ]
    },
    {
      "cell_type": "markdown",
      "metadata": {
        "id": "8KhGSYvRmJzD"
      },
      "source": [
        "## product"
      ]
    },
    {
      "cell_type": "code",
      "metadata": {
        "colab": {
          "base_uri": "https://localhost:8080/"
        },
        "id": "fn1FqmOBmLxA",
        "outputId": "7edc9973-74dd-4efc-b5fc-84ebef5102b4"
      },
      "source": [
        "from itertools import product\n",
        "a = [1,2]\n",
        "b = [3,4]\n",
        "prod = product(a,b)\n",
        "print(list(prod))\n",
        "prod = product(a,b,repeat=2)\n",
        "print(list(prod))\n",
        "\n",
        "\n"
      ],
      "execution_count": 31,
      "outputs": [
        {
          "output_type": "stream",
          "text": [
            "[(1, 3), (1, 4), (2, 3), (2, 4)]\n",
            "[(1, 3, 1, 3), (1, 3, 1, 4), (1, 3, 2, 3), (1, 3, 2, 4), (1, 4, 1, 3), (1, 4, 1, 4), (1, 4, 2, 3), (1, 4, 2, 4), (2, 3, 1, 3), (2, 3, 1, 4), (2, 3, 2, 3), (2, 3, 2, 4), (2, 4, 1, 3), (2, 4, 1, 4), (2, 4, 2, 3), (2, 4, 2, 4)]\n"
          ],
          "name": "stdout"
        }
      ]
    },
    {
      "cell_type": "markdown",
      "metadata": {
        "id": "gkxWrrtnmovs"
      },
      "source": [
        "## permutations & combinations"
      ]
    },
    {
      "cell_type": "code",
      "metadata": {
        "id": "ELMnnzFvmq3R"
      },
      "source": [
        "from itertools import permutations\n",
        "a = [1,2,3]\n",
        "perm = permutations(a)\n",
        "print(list(perm))\n",
        "\n",
        "perm = permutations(a,2)\n",
        "print(list(perm))\n",
        "\n",
        "\n",
        "from itertools import combinations\n",
        "a = [1,2,3,4]\n",
        "comb = combinations(a,2)\n",
        "print(list(comb))\n",
        "\n",
        "from itertools import combinations,combinations_with_replacement\n",
        "a = [1,2,3,4]\n",
        "comb = combinations(a,2)\n",
        "comb_wr = combinations_with_replacement(a,2) #allows repititions\n",
        "print(list(comb))\n",
        "print(list(comb_wr))\n"
      ],
      "execution_count": null,
      "outputs": []
    },
    {
      "cell_type": "markdown",
      "metadata": {
        "id": "-IZKF5benV0G"
      },
      "source": [
        "## accumulate"
      ]
    },
    {
      "cell_type": "code",
      "metadata": {
        "colab": {
          "base_uri": "https://localhost:8080/"
        },
        "id": "VuTI7FranX9j",
        "outputId": "30b27265-820e-4c43-e50f-215c81419de5"
      },
      "source": [
        "from itertools import accumulate\n",
        "a = [1,2,3,4]\n",
        "acc = accumulate (a)\n",
        "print(a)\n",
        "print(list(acc))\n",
        "\n",
        "import operator \n",
        "acc = accumulate (a, func = operator.mul)\n",
        "print(a)\n",
        "print(list(acc))"
      ],
      "execution_count": 39,
      "outputs": [
        {
          "output_type": "stream",
          "text": [
            "[1, 2, 3, 4]\n",
            "[1, 3, 6, 10]\n",
            "[1, 2, 3, 4]\n",
            "[1, 2, 6, 24]\n"
          ],
          "name": "stdout"
        }
      ]
    },
    {
      "cell_type": "markdown",
      "metadata": {
        "id": "bZJeEA5Nn1aV"
      },
      "source": [
        "## groupby"
      ]
    },
    {
      "cell_type": "code",
      "metadata": {
        "colab": {
          "base_uri": "https://localhost:8080/"
        },
        "id": "tB0y-u8nn3Vh",
        "outputId": "10aba2d1-62ac-43a8-fda1-afcc168eb883"
      },
      "source": [
        "#group by example - 1\n",
        "rom itertools import groupby\n",
        "a = [1,2,3,4]\n",
        "\n",
        "def smaller_than_3(x):\n",
        "  return x < 3\n",
        "\n",
        "#group_obj = groupby(a,key=smaller_than_3)\n",
        "group_obj = groupby(a,key=lambda x:x<3) #using lambda function\n",
        "\n",
        "for key, value in group_obj:\n",
        "  print(key,list(value))\n",
        "\n"
      ],
      "execution_count": 1,
      "outputs": [
        {
          "output_type": "stream",
          "text": [
            "True [1, 2]\n",
            "False [3, 4]\n"
          ],
          "name": "stdout"
        }
      ]
    },
    {
      "cell_type": "code",
      "metadata": {
        "colab": {
          "base_uri": "https://localhost:8080/"
        },
        "id": "s_81ncXm67vP",
        "outputId": "19aedb59-6505-494b-b535-cbe64db3ea81"
      },
      "source": [
        "# group by example - 2\n",
        "from itertools import groupby\n",
        "persons = [{'name':'Tim','age':25},{'name':'Dan','age':25},{'name':'Lisa','age':27},{'name':'Claire','age':28}]\n",
        "\n",
        "group_obj = groupby(persons,key=lambda x: x['age'])\n",
        "\n",
        "for key,value in group_obj:\n",
        "  print(key,list(value))"
      ],
      "execution_count": 4,
      "outputs": [
        {
          "output_type": "stream",
          "text": [
            "25 [{'name': 'Tim', 'age': 25}, {'name': 'Dan', 'age': 25}]\n",
            "27 [{'name': 'Lisa', 'age': 27}]\n",
            "28 [{'name': 'Claire', 'age': 28}]\n"
          ],
          "name": "stdout"
        }
      ]
    },
    {
      "cell_type": "markdown",
      "metadata": {
        "id": "HjCCfsWF7ohM"
      },
      "source": [
        "## infinite iterators"
      ]
    },
    {
      "cell_type": "code",
      "metadata": {
        "id": "29iuMP7C7smW"
      },
      "source": [
        "from itertools import count, cycle, repeat\n",
        "\n",
        "for i in count(10): #infinite loop that starts with 10\n",
        "  print(i)\n",
        "  if i == 15:\n",
        "    break\n",
        "\n",
        "a = [1,2,3]\n",
        "x = 0\n",
        "for i in cycle(a): #infinitely cycle through list element\n",
        "  print(i)\n",
        "  x += 1\n",
        "  if x >99:\n",
        "    break\n",
        "\n",
        "for i in repeat(1,100): # repeats 1 100 times\n",
        "  print(i)"
      ],
      "execution_count": null,
      "outputs": []
    },
    {
      "cell_type": "markdown",
      "metadata": {
        "id": "ipMg6L75-KKZ"
      },
      "source": [
        "# Lambda\n",
        "syntax - lambda arguments: expression\n",
        "\n",
        "used when:\n",
        "you need a simple function which will be used only once in your code\n",
        "used as arguments to higher order function"
      ]
    },
    {
      "cell_type": "markdown",
      "metadata": {
        "id": "jPy-8HvtAwn2"
      },
      "source": [
        "## simple example"
      ]
    },
    {
      "cell_type": "code",
      "metadata": {
        "colab": {
          "base_uri": "https://localhost:8080/"
        },
        "id": "2Bszuddw-MXd",
        "outputId": "705e9c1b-4910-40b4-ab6f-8405eeb0728d"
      },
      "source": [
        "add10 = lambda x: x + 10\n",
        "print(add10(5))\n",
        "\n",
        "#same as - \n",
        "def add10_func(x):\n",
        "  return x + 10\n",
        "\n",
        "#lambda function with multiple arguments\n",
        "\n",
        "mult = lambda x,y:x*y\n",
        "print(mult(2,3))\n",
        "\n",
        "\n"
      ],
      "execution_count": 12,
      "outputs": [
        {
          "output_type": "stream",
          "text": [
            "15\n",
            "6\n"
          ],
          "name": "stdout"
        }
      ]
    },
    {
      "cell_type": "markdown",
      "metadata": {
        "id": "qI6_VTZdAznM"
      },
      "source": [
        "## intermediate example"
      ]
    },
    {
      "cell_type": "code",
      "metadata": {
        "colab": {
          "base_uri": "https://localhost:8080/"
        },
        "id": "3CQw9QPU_Beq",
        "outputId": "ac782487-4abb-4d52-835d-c354b467140a"
      },
      "source": [
        "points2d = [(1,2),(15,1),(5,-1),(10,4)]\n",
        "points2d_sorted = sorted(points2d)\n",
        "points2d_sorted = sorted(points2d, key=lambda x:x[1]) #sort by y coordincate by passing index 1,remember index starts with 0\n",
        "points2d_sorted = sorted(points2d, key=lambda x:x[0]+x[1]) \n",
        "print(points2d)\n",
        "print(points2d_sorted)"
      ],
      "execution_count": 15,
      "outputs": [
        {
          "output_type": "stream",
          "text": [
            "[(1, 2), (15, 1), (5, -1), (10, 4)]\n",
            "[(1, 2), (5, -1), (10, 4), (15, 1)]\n"
          ],
          "name": "stdout"
        }
      ]
    },
    {
      "cell_type": "markdown",
      "metadata": {
        "id": "t3aTSYvlA2sA"
      },
      "source": [
        "# advance usage of lambda"
      ]
    },
    {
      "cell_type": "markdown",
      "metadata": {
        "id": "f0lHQ5vEA6cC"
      },
      "source": [
        "### map function"
      ]
    },
    {
      "cell_type": "code",
      "metadata": {
        "colab": {
          "base_uri": "https://localhost:8080/"
        },
        "id": "Iie06Vlo_5Pa",
        "outputId": "fbb82fef-ecbf-4975-d215-89f1e5c66e53"
      },
      "source": [
        "#map(func,seq)\n",
        "\n",
        "a = [1,2,3,4,5]\n",
        "b=map(lambda x: x*2,a) #using map function\n",
        "print(list(b))\n",
        "\n",
        "c = [x*2 for x in a] #using list comprehension\n",
        "print(c)"
      ],
      "execution_count": 17,
      "outputs": [
        {
          "output_type": "stream",
          "text": [
            "[2, 4, 6, 8, 10]\n",
            "[2, 4, 6, 8, 10]\n"
          ],
          "name": "stdout"
        }
      ]
    },
    {
      "cell_type": "markdown",
      "metadata": {
        "id": "xVZM_dECA8Hv"
      },
      "source": [
        "### filter function"
      ]
    },
    {
      "cell_type": "code",
      "metadata": {
        "colab": {
          "base_uri": "https://localhost:8080/"
        },
        "id": "hFeAWB5MANSt",
        "outputId": "3a1ec85e-bb01-4f0d-c27e-ec5951804743"
      },
      "source": [
        "# filter (func,seq)\n",
        "a = [1,2,3,4,5,6]\n",
        "b = filter(lambda x:x%2==0,a)\n",
        "print(list(b))\n",
        "\n",
        "c = [x for x in a if x%2==0]\n",
        "print(c)"
      ],
      "execution_count": 19,
      "outputs": [
        {
          "output_type": "stream",
          "text": [
            "[2, 4, 6]\n",
            "[2, 4, 6]\n"
          ],
          "name": "stdout"
        }
      ]
    },
    {
      "cell_type": "markdown",
      "metadata": {
        "id": "32roFeZ_A9zj"
      },
      "source": [
        "### reduce function"
      ]
    },
    {
      "cell_type": "code",
      "metadata": {
        "colab": {
          "base_uri": "https://localhost:8080/"
        },
        "id": "4BVO5zoyAcHT",
        "outputId": "a0095eae-460d-4874-ed57-0950d01e2075"
      },
      "source": [
        "#reduce (func,seq)\n",
        "from functools import reduce\n",
        "a = [1,2,3,4,5,6]\n",
        "prod_a = reduce(lambda x,y:x*y,a)\n",
        "print(prod_a)"
      ],
      "execution_count": 21,
      "outputs": [
        {
          "output_type": "stream",
          "text": [
            "720\n"
          ],
          "name": "stdout"
        }
      ]
    },
    {
      "cell_type": "markdown",
      "metadata": {
        "id": "9CLl_UyNBDZa"
      },
      "source": [
        "# Exceptions"
      ]
    }
  ]
}